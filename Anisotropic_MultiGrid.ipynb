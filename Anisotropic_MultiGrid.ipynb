{
  "nbformat": 4,
  "nbformat_minor": 0,
  "metadata": {
    "colab": {
      "name": "Anisotropic_MultiGrid.ipynb",
      "provenance": [],
      "collapsed_sections": [],
      "authorship_tag": "ABX9TyNi2lOAr2MYn2TirS3dshfN",
      "include_colab_link": true
    },
    "kernelspec": {
      "name": "python3",
      "display_name": "Python 3"
    }
  },
  "cells": [
    {
      "cell_type": "markdown",
      "metadata": {
        "id": "view-in-github",
        "colab_type": "text"
      },
      "source": [
        "<a href=\"https://colab.research.google.com/github/fadibechara/MultiGrid/blob/main/Anisotropic_MultiGrid.ipynb\" target=\"_parent\"><img src=\"https://colab.research.google.com/assets/colab-badge.svg\" alt=\"Open In Colab\"/></a>"
      ]
    },
    {
      "cell_type": "markdown",
      "metadata": {
        "id": "lqMog1TqVGOv"
      },
      "source": [
        "# Anisotropic multigrid MS HPC-AI 2020-2021"
      ]
    },
    {
      "cell_type": "code",
      "metadata": {
        "id": "Aho2wQvpe17b"
      },
      "source": [
        "import matplotlib.pyplot as plt\r\n",
        "import numpy as np\r\n",
        "import math\r\n",
        "import time"
      ],
      "execution_count": 43,
      "outputs": []
    },
    {
      "cell_type": "code",
      "metadata": {
        "id": "VFMXB0Vh4_5K"
      },
      "source": [
        "def plot_heatmap(u, n, m):\r\n",
        "  u = np.reshape(u, (int(n),int(m)))\r\n",
        "  plt.imshow(u, cmap='hot', interpolation='nearest')\r\n",
        "  plt.show()"
      ],
      "execution_count": 44,
      "outputs": []
    },
    {
      "cell_type": "markdown",
      "metadata": {
        "id": "xUC0b6QdrqRp"
      },
      "source": [
        "The equation that is taking the form of a matrix vector multiply is :\r\n",
        "\r\n",
        "\r\n",
        "# ((2/hx²)+(2*ε/hy²))*U(x,y) - (1/hx²)*U(x+h,y) -(ε/hy²)*U(x,y+h) -(1/hx²)*U(x-h,y) -(ε/hy²)U(x,y-h) = f(x,y) \r\n",
        "\r\n",
        "Where U(x,y) would be a product of the main diagonal componenet of the matrix.\r\n",
        "\r\n",
        "U(x+h,y) and U(x-h,y) are a product of the upper and lower diagonal.\r\n",
        " \r\n",
        "Finally U(x,y-h) and U(x,y+h) are respectively products of the diagonals that have strides of -n and +n from the main diagonal.\r\n",
        "\r\n",
        "Thus we are finally left with a sparse **FIVE_DIAGONAL Matrix**"
      ]
    },
    {
      "cell_type": "code",
      "metadata": {
        "id": "CnBJW_rJh8g4"
      },
      "source": [
        "def fivediag(hx, hy, ep):\r\n",
        "  n= int(1/hy) + 1\r\n",
        "  m= int(1/hx) + 1\r\n",
        "  a=[(2/(hx*hx))+(2*ep/(hy*hy))]*(n*m)\r\n",
        "  b=[-1/(hx*hx)]*(n*m-1)\r\n",
        "  c=[-1/(hx*hx)]*(n*m-1)\r\n",
        "  d=[-ep/(hy*hy)]*(n*m-n)\r\n",
        "  e=[-ep/(hy*hy)]*(n*m-n)\r\n",
        "  A = np.diag(a, 0) + np.diag(b, -1) + np.diag(c, 1) + np.diag(d, -n) + np.diag(e, n)\r\n",
        "  A = np.reshape(A, (n*m, n*m))\r\n",
        "  return A"
      ],
      "execution_count": 45,
      "outputs": []
    },
    {
      "cell_type": "code",
      "metadata": {
        "id": "tEYRMPcmzJGs"
      },
      "source": [
        "def anisotropic_sparse_fivediag(hx, hy, ep):\r\n",
        "  A = [(2/(hx*hx))+(2*ep/(hy*hy)), -1/(hx*hx), -ep/(hy*hy)]\r\n",
        "  return A"
      ],
      "execution_count": 46,
      "outputs": []
    },
    {
      "cell_type": "code",
      "metadata": {
        "id": "G9hQ4F32JyOl"
      },
      "source": [
        "def function(hx,hy):\r\n",
        "  n= int(1/hy) + 1\r\n",
        "  m= int(1/hx) + 1\r\n",
        "  f = np.zeros(n*m, dtype=float)\r\n",
        "  n=int(math.sqrt(N))\r\n",
        "  for i in range(0,m):\r\n",
        "    for j in range(0,n):\r\n",
        "       f[i*n+j]=5*hx*hy*i*m*j\r\n",
        "  return f\r\n"
      ],
      "execution_count": 47,
      "outputs": []
    },
    {
      "cell_type": "code",
      "metadata": {
        "id": "AVtvfFlNKR8Y"
      },
      "source": [
        "_eps =1e-12\r\n",
        "_maxiter=500\r\n",
        "def anisotropic_sparse_solver(A, b, x, hx, hy, omega=1.5, eps=_eps, maxiter=_maxiter, sor=1):\r\n",
        "    start_time = time.time()\r\n",
        "    if (omega > 2.) or (omega < 0.):\r\n",
        "        raise ArithmeticError(\"SOR will diverge\")\r\n",
        "\r\n",
        "    #x = _basic_check(A, b, x0)\r\n",
        "    n = int(1/hy) + 1\r\n",
        "    m = int(1/hx) + 1   \r\n",
        "    N = n*m\r\n",
        "    if (N != x.size) or (N != b.size):\r\n",
        "        raise ArithmeticError(\"hx and hy values do not correspond to actual discretization\")\r\n",
        "    residual_history = list()\r\n",
        "    disp_history = list()\r\n",
        "    count = 0\r\n",
        "    disp = eps+1\r\n",
        "    while (count<maxiter and disp>eps):\r\n",
        "        xn = np.zeros(N)\r\n",
        "        for i in range(n+1,N-n-1):  \r\n",
        "           s = b[i]\r\n",
        "           if (sor==1): s = s - A[2]*xn[i-n] - A[1]*xn[i-1] - A[1]*x[i+1] - A[2]*x[i+n]\r\n",
        "           else: s = s - A[2]*x[i-n] - A[1]*x[i-1] - A[1]*x[i+1] - A[2]*x[i+n]\r\n",
        "           xn[i]=(1-omega)*x[i]+(omega/(A[0]))*s\r\n",
        "        r = (xn[n+1]-x[n+1])*(xn[n+1]-x[n+1])\r\n",
        "        disp = (xn[n+1]-x[n+1])*(xn[n+1]-x[n+1])\r\n",
        "        for i in range(n+2,N-n-1):\r\n",
        "            r = r + (xn[i]-x[i])*(xn[i]-x[i])  \r\n",
        "            dispc=(xn[i]-x[i])*(xn[i]-x[i])\r\n",
        "            if(dispc>disp): disp=dispc\r\n",
        "        x = xn[:]\r\n",
        "        r = math.sqrt(r)\r\n",
        "        disp = math.sqrt(disp)\r\n",
        "        residual_history.append(r)\r\n",
        "        disp_history.append(disp)\r\n",
        "        count = count+1\r\n",
        "    elapsed_time = time.time() - start_time\r\n",
        "    print(elapsed_time)\r\n",
        "    return x, residual_history, disp_history, count"
      ],
      "execution_count": 48,
      "outputs": []
    },
    {
      "cell_type": "code",
      "metadata": {
        "id": "3x8qdj-QNH7y"
      },
      "source": [
        "def v_anisotropic_multigrid(x, hx, hy, level=3, omega=0.6, ax=2, ay=4):\r\n",
        "  start_time = time.time()\r\n",
        "  count=0\r\n",
        "  nx=1/hx +1\r\n",
        "  ny = 1/hy + 1\r\n",
        "  while(count<level):\r\n",
        "    A = sparse_fivediag(hx,hy, 0.5)\r\n",
        "    f = function(1/(nx-1),1/(ny-1))\r\n",
        "    x,r,d,c = sparse_solver(A,f,x,hx,hy,0.6,1e-6,10)\r\n",
        "    print(c)\r\n",
        "    plot_heatmap(x, 1/(hy)+1, 1/(hx)+1)\r\n",
        "    x,nx,ny,hx,hy = restrict(x, hx, hy, 2, 4)\r\n",
        "    count=count+1\r\n",
        "\r\n",
        "  while(count>0):\r\n",
        "    N=x.size\r\n",
        "    n=int(math.sqrt(N))\r\n",
        "    h=1/(n)\r\n",
        "    A = sparse_fivediag(hx,hy, 0.5)\r\n",
        "    f = function(hx,hy)\r\n",
        "    if (count!=1):\r\n",
        "      x,r,d,c = sparse_solver(A,f,x,hx,hy,0.6,1e-6,100)\r\n",
        "    else:\r\n",
        "      x,r,d,c = sparse_solver(A,f,x,hx,hy,0.6,1e-6,1)\r\n",
        "      print('Final Residual')\r\n",
        "      print(r[-1])\r\n",
        "    print(x.size)\r\n",
        "    print(c)\r\n",
        "    plot_heatmap(x, 1/(hy)+1, 1/(hx)+1)\r\n",
        "    if(count!=1):\r\n",
        "      x,nx,ny,hx,hy = prolongate(x, hy, hx, 4, 2)\r\n",
        "    print(x.size)\r\n",
        "    count=count-1\r\n",
        "\r\n",
        "  \r\n",
        "  elapsed_time = time.time() - start_time\r\n",
        "  print('V_MultiGrid Took')\r\n",
        "  print(elapsed_time)\r\n",
        "  return x"
      ],
      "execution_count": 74,
      "outputs": []
    },
    {
      "cell_type": "markdown",
      "metadata": {
        "id": "3InBnhyvvUAi"
      },
      "source": [
        "# Anisotropic Restrict\r\n",
        "\r\n",
        "With anisotropic the restrict operator differs from Isotropic in the sense that the x and the y direction have a their own **respective restriction factors**.\r\n",
        "\r\n",
        "In the previous isotropic exercise they were both restricted by the same factor of 2 at every restrict exeution.\r\n",
        "\r\n",
        "Here the x direction can have a restriction factor of say 8 and the y direction can have a factor of 4 for example, that way the discretizations we end up with are rectangular and not squared. \r\n",
        "\r\n",
        "Thus we can notice differeces in our continuous solution in a more advanced way  than isotropic retrction."
      ]
    },
    {
      "cell_type": "code",
      "metadata": {
        "id": "k0YDYnqWe4Qk"
      },
      "source": [
        " def restrict(u,hx,hy,ax,ay):\r\n",
        "  n= int(1/hy) + 1\r\n",
        "  m= int(1/hx) + 1\r\n",
        "  Hy=(hy*ay)\r\n",
        "  Hx=(hx*ax)\r\n",
        "  N= int(1/Hy) + 1\r\n",
        "  M= int(1/Hx) + 1\r\n",
        "  uc = np.zeros(N*M)\r\n",
        "  b = int ((1+ax*hx)*(hx*ax+ax)/(1+hx)/(hx*ax+1))\r\n",
        "  c=0\r\n",
        "  #the 'c' here is used as a skipping parameter for when i gets halfway through the coarse vector to push it to the other half of the fine vector so we don't get a truncated coarse grid, this is due to the fact that we need to preserve the extremities of the vector to be able to prolongate after restriction\r\n",
        "  for i in range(0,M):\r\n",
        "   #if (i==int(M/2)): c=((ax-1)*n+ay-1)\r\n",
        "   for j in range(0,N):\r\n",
        "     uc[i*N+j]=u[i*b*(n)+(j)*(ay)+c]\r\n",
        "  return uc,M,N,Hx,Hy\r\n",
        "\r\n",
        "\r\n"
      ],
      "execution_count": 50,
      "outputs": []
    },
    {
      "cell_type": "markdown",
      "metadata": {
        "id": "Y0wew1Q1zIZ3"
      },
      "source": [
        "# Anisotropic Prolongation\r\n",
        "\r\n",
        "Concering anisotropic prolongation we have the same dilemma as restriction.\r\n",
        "\r\n",
        "the x direction can be prolongated by a value that is different than the y direction prolongation value.\r\n",
        "\r\n",
        "To be able to do a multigrid cycle the X and Y (ax,ay)restriction values when **restricting down** *should be the same* as the X and Y prolongation(ax,ay)  values when **prolongating up**."
      ]
    },
    {
      "cell_type": "code",
      "metadata": {
        "id": "kYz9yg4MAevF"
      },
      "source": [
        "def prolongate(u, hx, hy, ax, ay):\r\n",
        "  n = int (1/hy + 1)\r\n",
        "  m = int (1/hx + 1)\r\n",
        "  Hy = hy/ay\r\n",
        "  Hx = hx/ax\r\n",
        "  N = int (1/Hy + 1)\r\n",
        "  M = int (1/Hx + 1)\r\n",
        "  c=0\r\n",
        "  uf = np.zeros((N)*(M), dtype=float)\r\n",
        "  for i in range(0,M,ax):\r\n",
        "    for j in range(0,N,ay):\r\n",
        "      uf[i*N+j]=u[int (i*n/ax)+ int (j/ay)]\r\n",
        "    for j in range(0,N):\r\n",
        "     if ((j%ay)==0):\r\n",
        "        c=0\r\n",
        "     else:\r\n",
        "      c = c + 1\r\n",
        "      uf[i*N+j] = uf[i*N+j-c]*(ay-c)/ay + uf[i*N+j-c+ay]*c/ay\r\n",
        "  c=0\r\n",
        "  for i in range(N,N*M-N-1):\r\n",
        "    if ((i%(ax*N))==0):\r\n",
        "      c=0\r\n",
        "      i=i+N-1\r\n",
        "    else:\r\n",
        "      if ((i%N)==0): \r\n",
        "        c=c+1\r\n",
        "      else:\r\n",
        "       uf[i]=(uf[i-c*N]*(ax-c))/ax + uf[i-c*N+ax*N]*c/ax\r\n",
        "      \r\n",
        "  return uf,M,N,Hx,Hy\r\n"
      ],
      "execution_count": 67,
      "outputs": []
    },
    {
      "cell_type": "code",
      "metadata": {
        "colab": {
          "base_uri": "https://localhost:8080/"
        },
        "id": "J-X1iiHp13Rg",
        "outputId": "3ae8c75e-5ccf-49be-f049-20c96abf4c29"
      },
      "source": [
        "e=8\r\n",
        "u = np.arange(start=0, stop=4, step=1/2**e, dtype=float)\r\n",
        "u.size"
      ],
      "execution_count": 44,
      "outputs": [
        {
          "output_type": "execute_result",
          "data": {
            "text/plain": [
              "1024"
            ]
          },
          "metadata": {
            "tags": []
          },
          "execution_count": 44
        }
      ]
    },
    {
      "cell_type": "code",
      "metadata": {
        "id": "1iFHVT0SRxhQ",
        "colab": {
          "base_uri": "https://localhost:8080/"
        },
        "outputId": "88339391-76fd-47f4-d37f-b3337706d0d8"
      },
      "source": [
        "e=8\r\n",
        "u = np.arange(start=1, stop=524289, step=1, dtype=float)\r\n",
        "#u = np.zeros(2**e)  \r\n",
        "u.size\r\n"
      ],
      "execution_count": 68,
      "outputs": [
        {
          "output_type": "execute_result",
          "data": {
            "text/plain": [
              "524288"
            ]
          },
          "metadata": {
            "tags": []
          },
          "execution_count": 68
        }
      ]
    },
    {
      "cell_type": "code",
      "metadata": {
        "colab": {
          "base_uri": "https://localhost:8080/",
          "height": 219
        },
        "id": "jCXUQPPMInNs",
        "outputId": "7f315f55-47b7-4029-b896-d563d5efca70"
      },
      "source": [
        "plot_heatmap(u,512,1024)"
      ],
      "execution_count": 69,
      "outputs": [
        {
          "output_type": "display_data",
          "data": {
            "image/png": "[encoded data removed]",
            "text/plain": [
              "<Figure size 432x288 with 1 Axes>"
            ]
          },
          "metadata": {
            "tags": [],
            "needs_background": "light"
          }
        }
      ]
    },
    {
      "cell_type": "markdown",
      "metadata": {
        "id": "6RC5eLAP7RFo"
      },
      "source": [
        "We will test if in fact our restrictin opeator does what it's supposed to do and succesfully reduces the size along the **X direction by 4** and along the **Y direction by 2.**"
      ]
    },
    {
      "cell_type": "code",
      "metadata": {
        "id": "-b44Z0sNMXvD"
      },
      "source": [
        "u1,m1,n1,hx,hy = restrict(u, 1/(1024-1), 1/(512-1), 2, 4)"
      ],
      "execution_count": 70,
      "outputs": []
    },
    {
      "cell_type": "markdown",
      "metadata": {
        "id": "U_C75moS8ZF1"
      },
      "source": [
        "We can see that the anisotrpoic restrict operator was succesfful at reducing x and y directions in different values by keeping the same nature of our space."
      ]
    },
    {
      "cell_type": "code",
      "metadata": {
        "colab": {
          "base_uri": "https://localhost:8080/",
          "height": 135
        },
        "id": "ynRErh0PJBZn",
        "outputId": "b5079f65-2559-49c1-a2e8-5fe73dc8c787"
      },
      "source": [
        "plot_heatmap(u1,n1,m1)"
      ],
      "execution_count": 71,
      "outputs": [
        {
          "output_type": "display_data",
          "data": {
            "image/png": "[encoded data removed]",
            "text/plain": [
              "<Figure size 432x288 with 1 Axes>"
            ]
          },
          "metadata": {
            "tags": [],
            "needs_background": "light"
          }
        }
      ]
    },
    {
      "cell_type": "code",
      "metadata": {
        "id": "eveG5BwIct7C"
      },
      "source": [
        "u1,m1,n1,hx,hy = prolongate(u1, 1/(n1-1), 1/(m1-1), 4, 2)"
      ],
      "execution_count": 72,
      "outputs": []
    },
    {
      "cell_type": "markdown",
      "metadata": {
        "id": "AWBkEQlZS5bO"
      },
      "source": [
        "Now that we are sure that the prolongate and restirct methods for anisotropic are working as expected we could go on to the **V multi_grid** methods and examine the benefits it has vs the **regular SOR solver on finegrid.**"
      ]
    },
    {
      "cell_type": "code",
      "metadata": {
        "colab": {
          "base_uri": "https://localhost:8080/",
          "height": 218
        },
        "id": "hzl_WMF_SVjX",
        "outputId": "1cafd8fc-1f42-4ffb-dde0-b7be7f4b5459"
      },
      "source": [
        "plot_heatmap(u1,m1,n1)"
      ],
      "execution_count": 73,
      "outputs": [
        {
          "output_type": "display_data",
          "data": {
            "image/png": "[encoded data removed]",
            "text/plain": [
              "<Figure size 432x288 with 1 Axes>"
            ]
          },
          "metadata": {
            "tags": [],
            "needs_background": "light"
          }
        }
      ]
    }
  ]
}