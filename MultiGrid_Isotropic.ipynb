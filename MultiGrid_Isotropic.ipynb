{
  "nbformat": 4,
  "nbformat_minor": 0,
  "metadata": {
    "colab": {
      "name": "MultiGrid_Isotropic.ipynb",
      "provenance": [],
      "collapsed_sections": [],
      "authorship_tag": "ABX9TyOijlkolG9BE4eOpeXqCmdz",
      "include_colab_link": true
    },
    "kernelspec": {
      "display_name": "Python 3",
      "name": "python3"
    }
  },
  "cells": [
    {
      "cell_type": "markdown",
      "metadata": {
        "id": "view-in-github",
        "colab_type": "text"
      },
      "source": [
        "<a href=\"https://colab.research.google.com/github/fadibechara/MultiGrid/blob/main/MultiGrid_Isotropic.ipynb\" target=\"_parent\"><img src=\"https://colab.research.google.com/assets/colab-badge.svg\" alt=\"Open In Colab\"/></a>"
      ]
    },
    {
      "cell_type": "code",
      "metadata": {
        "id": "7ipy_l9yZ8rc"
      },
      "source": [
        "from math import pi, sin, cos, sqrt\r\n",
        "import pylab as plt\r\n",
        "import numpy as np\r\n",
        "import scipy as sp\r\n",
        "import scipy.sparse as spa\r\n",
        "import scipy.linalg as la\r\n",
        "import math\r\n",
        "import time\r\n",
        "#from matplotlib import rc, rcParams\r\n",
        "#rc('font',**{'family':'sans-serif','sans-serif':['Helvetica']})\r\n",
        "#rc('text', usetex=True)\r\n",
        "#rcParams.update({'font.size': 16})\r\n",
        "\r\n",
        "# Some paramters\r\n",
        "_eps =1e-12\r\n",
        "_maxiter=500\r\n",
        "\r\n",
        "def _basic_check(A, b, x0):\r\n",
        "    \"\"\" Common check for clarity \"\"\"\r\n",
        "    n, m = A.shape\r\n",
        "    if(n != m):\r\n",
        "        raise ValueError(\"Only square matrix allowed\")\r\n",
        "    if(b.size != n):\r\n",
        "        raise ValueError(\"Bad rhs size\")\r\n",
        "    if (x0 is None):\r\n",
        "        x0 = np.zeros(n)\r\n",
        "    if(x0.size != n):\r\n",
        "        raise ValueError(\"Bad initial value size\")\r\n",
        "    return x0"
      ],
      "execution_count": 2,
      "outputs": []
    },
    {
      "cell_type": "code",
      "metadata": {
        "id": "DWEl_M12FPoh"
      },
      "source": [
        "def plot_heatmap(u):\r\n",
        "  N=u.size\r\n",
        "  n=int(math.sqrt(N))\r\n",
        "  u = np.reshape(u, (n,n))\r\n",
        "  plt.imshow(u, cmap='hot', interpolation='nearest')\r\n",
        "  plt.show()"
      ],
      "execution_count": 3,
      "outputs": []
    },
    {
      "cell_type": "code",
      "metadata": {
        "id": "r2dpbVywZ1vX"
      },
      "source": [
        "def JOR(A, b, x, omega, eps=_eps, maxiter=_maxiter):\r\n",
        "\r\n",
        "    #x = _basic_check(A, b, x0)\r\n",
        "    r = np.zeros(x.shape)    \r\n",
        "    residual_history = list()\r\n",
        "    disp_history = list()\r\n",
        "    N = x.size\r\n",
        "    n = int(math.sqrt(N))\r\n",
        "    count = 0\r\n",
        "    disp = eps+1\r\n",
        "    while (count<maxiter and disp>eps):\r\n",
        "        xn = np.zeros(N)\r\n",
        "        for i in range(n+1,N-n-1):\r\n",
        "            if i%n == 0 or (i+1)%n == 0:\r\n",
        "             continue\r\n",
        "            s = b[i]\r\n",
        "            for t in [y for y in range(0,n) if y!=i]:\r\n",
        "                s = s - (A[i][t])*x[t]\r\n",
        "            xn[i]=(1-omega)*x[i]+(omega/A[i][i])*s\r\n",
        "        r = (xn[n+1]-x[n+1])*(xn[n+1]-x[n+1])    \r\n",
        "        disp = (xn[n+1]-x[n+1])*(xn[n+1]-x[n+1])\r\n",
        "        for i in range(n+2,N-n-1):\r\n",
        "            if i%n == 0 or (i+1)%n == 0:\r\n",
        "             continue\r\n",
        "            r = r + (xn[i]-x[i])*(xn[i]-x[i])  \r\n",
        "            dispc=(xn[i]-x[i])*(xn[i]-x[i])\r\n",
        "            if(dispc>disp):\r\n",
        "               disp=dispc\r\n",
        "        x = xn[:]\r\n",
        "        r = math.sqrt(r)\r\n",
        "        disp = math.sqrt(disp)\r\n",
        "        residual_history.append(r)\r\n",
        "        disp_history.append(disp)\r\n",
        "        count = count+1\r\n",
        "\r\n",
        "    return x, residual_history, disp_history, count\r\n"
      ],
      "execution_count": 4,
      "outputs": []
    },
    {
      "cell_type": "code",
      "metadata": {
        "id": "G54e43EwZtgZ"
      },
      "source": [
        "def SOR(A, b, x, omega=1.5, eps=_eps, maxiter=_maxiter):\r\n",
        "    start_time = time.time()\r\n",
        "    if (omega > 2.) or (omega < 0.):\r\n",
        "        raise ArithmeticError(\"SOR will diverge\")\r\n",
        "\r\n",
        "    #x = _basic_check(A, b, x0)   \r\n",
        "    residual_history = list()\r\n",
        "    disp_history = list()\r\n",
        "    N = b.size\r\n",
        "    n = int(math.sqrt(N))\r\n",
        "    count = 0\r\n",
        "    disp = eps+1\r\n",
        "    while (count<maxiter and disp>eps):\r\n",
        "        xn = np.zeros(N)\r\n",
        "        for i in range(n+1,N-n-1):\r\n",
        "            if i%n == 0 or (i+1)%n == 0:\r\n",
        "              continue \r\n",
        "            s = b[i]\r\n",
        "            for t in range(i):\r\n",
        "                s = s - A[i][t]*xn[t]\r\n",
        "            for t in range(i+1, n):\r\n",
        "                s = s - A[i][t]*x[t]\r\n",
        "            xn[i]=(1-omega)*x[i]+(omega/(A[i][i]))*s\r\n",
        "        r = (xn[n+1]-x[n+1])*(xn[n+1]-x[n+1])    \r\n",
        "        disp = (xn[n+1]-x[n+1])*(xn[n+1]-x[n+1])\r\n",
        "        for i in range(n+2,N-n):\r\n",
        "            if i%n == 0 or (i+1)%n == 0:\r\n",
        "             continue\r\n",
        "            r = r + (xn[i]-x[i])*(xn[i]-x[i])  \r\n",
        "            dispc=(xn[i]-x[i])*(xn[i]-x[i])\r\n",
        "            if(dispc>disp):\r\n",
        "               disp=dispc\r\n",
        "        x = xn[:]\r\n",
        "        r = math.sqrt(r)\r\n",
        "        residual_history.append(r)\r\n",
        "        disp_history.append(disp)\r\n",
        "        count = count+1\r\n",
        "    elapsed_time = time.time() - start_time\r\n",
        "    print(elapsed_time)\r\n",
        "    return x, residual_history, disp_history, count"
      ],
      "execution_count": 5,
      "outputs": []
    },
    {
      "cell_type": "code",
      "metadata": {
        "id": "k0YDYnqWe4Qk"
      },
      "source": [
        "def restrict_full(u):\r\n",
        "  s=np.size(u,0)\r\n",
        "  s=int(math.sqrt(s))\r\n",
        "  n=int(s/2)\r\n",
        "  uc = np.zeros(n*n, dtype=float)\r\n",
        "  #uc[0]=(4*u[0]+2*u[s]+2*u[1]+u[s+1])/9\r\n",
        "  #for i in range(1, n):\r\n",
        "    #uc[i]=(4*u[2*i]+2*u[2*i-1]+2*u[2*i+1]+2*u[2*i+s]+u[2*i+s-1]+u[2*i+s+1])/12\r\n",
        "\r\n",
        "  for i in range(1,n-1):\r\n",
        "    #uc[n*i]=(4*u[2*i*s]+2*u[(2*i-1)*s]+2*u[(2*i+1)*s]+2*u[2*i*s+1]+u[(2*i+1)*s+1]+u[(2*i-1)*s-1])/12\r\n",
        "    for j in range(1,n-1):\r\n",
        "      uc[n*i+j]=(4*u[2*i*s+2*j] + 2*u[2*i*s+2*j-1] + 2*u[2*i*s+2*j+1] + 2*u[(2*i-1)*s+2*j] + 2*u[(2*i+1)*s+2*j] + u[(2*i+1)*s+2*j+1] + u[(2*i+1)*s+2*j-1] + u[(2*i-1)*s+2*j+1] + u[(2*i-1)*s+2*j-1])/16\r\n",
        "\r\n",
        "  return uc\r\n"
      ],
      "execution_count": 6,
      "outputs": []
    },
    {
      "cell_type": "code",
      "metadata": {
        "id": "1Xb80g3jCSab"
      },
      "source": [
        "def function(N,h):\r\n",
        "  f = np.empty(N, dtype=float)\r\n",
        "  n=int(math.sqrt(N))\r\n",
        "  for i in range(0,n):\r\n",
        "    for j in range(0,n):\r\n",
        "      f[i*n+j]=(h**2)*(i*n+j)*(i*n+j)*(h**2)\r\n",
        "  return f\r\n"
      ],
      "execution_count": 7,
      "outputs": []
    },
    {
      "cell_type": "code",
      "metadata": {
        "id": "kG0p1YbGKwTx"
      },
      "source": [
        "def restrict_injection(u):\r\n",
        "  s=np.size(u,0)\r\n",
        "  s=int(math.sqrt(s))\r\n",
        "  n=int(s/2)\r\n",
        "  uc = np.zeros(n*n, dtype=float)\r\n",
        "  #uc[0] = u[0]\r\n",
        "  #for i in range(1, n):\r\n",
        "    #uc[i]=u[2*i]\r\n",
        "\r\n",
        "  for i in range(1,n-1):\r\n",
        "    #uc[n*i]= u[2*i*s]\r\n",
        "    for j in range(1,n-1):\r\n",
        "      uc[n*i+j]= u[2*i*s+2*j]\r\n",
        "\r\n",
        "  return uc"
      ],
      "execution_count": 8,
      "outputs": []
    },
    {
      "cell_type": "code",
      "metadata": {
        "id": "tpbWhDtQMbOX"
      },
      "source": [
        "def prolongate_injection(u):\r\n",
        "  s=np.size(u)\r\n",
        "  n=int(math.sqrt(s))\r\n",
        "  N=int(2*n)\r\n",
        "  uf = np.zeros((N)*(N), dtype=float)\r\n",
        "  for i in range(0,s):\r\n",
        "    j = int(i/n)\r\n",
        "    p = i - j*n\r\n",
        "    uf[j*2*N+p*2]=uf[j*2*N+p*2+1]=uf[j*2*N+p*2+N]=uf[j*2*N+p*2+N+1]=u[i]\r\n",
        "  return uf\r\n"
      ],
      "execution_count": 9,
      "outputs": []
    },
    {
      "cell_type": "code",
      "metadata": {
        "id": "kYz9yg4MAevF"
      },
      "source": [
        "def prolongate(u):\r\n",
        "  s=np.size(u)\r\n",
        "  s=int(math.sqrt(s))\r\n",
        "  n=int(2*s)\r\n",
        "  uf = np.zeros((n)*(n), dtype=float)\r\n",
        "  for i in range(0,n,2):\r\n",
        "    for j in range(0,n,2):\r\n",
        "      uf[i*n+j]=u[int((i/2)*s+j/2)]\r\n",
        "    for j in range(1,n-1,2):\r\n",
        "      uf[i*n+j]=(uf[i*n+j-1]+uf[i*n+j+1])/2\r\n",
        "    uf[i*n+n-1]=uf[i*n+n-2]\r\n",
        "\r\n",
        "  for i in range(1,n-2,2):\r\n",
        "    for j in range(0,n):\r\n",
        "      uf[i*n+j]=(uf[(i-1)*n+j]+uf[(i+1)*n+j])/2\r\n",
        "  for j in range(0,n):\r\n",
        "    uf[(n-1)*n+j]=uf[(n-2)*n+j]\r\n",
        "\r\n",
        "  return uf\r\n"
      ],
      "execution_count": 10,
      "outputs": []
    },
    {
      "cell_type": "code",
      "metadata": {
        "id": "7OMc-4jdI8g2"
      },
      "source": [
        "def restrict_half(u):\r\n",
        "  s=np.size(u,0)\r\n",
        "  s=int(math.sqrt(s))\r\n",
        "  n=int(s/2)\r\n",
        "  uc = np.zeros(n*n, dtype=float)\r\n",
        "  #uc[0]=(4*u[0]+u[s]+u[1])/6\r\n",
        "  #for i in range(1, n):\r\n",
        "    #uc[i]=(4*u[2*i]+u[2*i-1]+u[2*i+1]+u[2*i+s])/7\r\n",
        "\r\n",
        "  for i in range(1,n-1):\r\n",
        "    #uc[n*i]=(4*u[2*i*s]+u[(2*i-1)*s]+u[(2*i+1)*s]+u[2*i*s+1])/7\r\n",
        "    for j in range(1,n-1):\r\n",
        "      uc[n*i+j]=(4*u[2*i*s+2*j] + u[2*i*s+2*j-1] + u[2*i*s+2*j+1] + u[(2*i-1)*s+2*j] + u[(2*i+1)*s+2*j])/8\r\n",
        "\r\n",
        "  return uc"
      ],
      "execution_count": 11,
      "outputs": []
    },
    {
      "cell_type": "code",
      "metadata": {
        "id": "Q9mAeDns2tLz"
      },
      "source": [
        "def fivediag(N, n, h, sigma=0):\r\n",
        "  a=[4+h*h*sigma]*N\r\n",
        "  b=[-1]*(N-1)\r\n",
        "  c=[-1]*(N-1)\r\n",
        "  d=[-1]*(N-n)\r\n",
        "  e=[-1]*(N-n)\r\n",
        "  A = np.diag(a, 0) + np.diag(b, -1) + np.diag(c, 1) + np.diag(d, -n) + np.diag(e, n)\r\n",
        "  A = np.reshape(A, (N, N))\r\n",
        "  return A"
      ],
      "execution_count": 12,
      "outputs": []
    },
    {
      "cell_type": "code",
      "metadata": {
        "id": "6TUH0H6U69dq"
      },
      "source": [
        "#Sparse sor function for a more efficient matrix vector multiplication with less unbenificial computations, this function can only be used in this particular case though\r\n",
        "def sparse_SOR(A, b, x, omega=1.5, eps=_eps, maxiter=_maxiter):\r\n",
        "    start_time = time.time()\r\n",
        "    if (omega > 2.) or (omega < 0.):\r\n",
        "        raise ArithmeticError(\"SOR will diverge\")\r\n",
        "\r\n",
        "    #x = _basic_check(A, b, x0)   \r\n",
        "    residual_history = list()\r\n",
        "    disp_history = list()\r\n",
        "    N = b.size\r\n",
        "    n = int(math.sqrt(N))\r\n",
        "    count = 0\r\n",
        "    disp = eps+1\r\n",
        "    #xn = np.zeros(N)\r\n",
        "    while (count<maxiter and disp>eps):\r\n",
        "          xn = np.zeros(N)\r\n",
        "          for i in range(n,N-n):\r\n",
        "            if i%n == 0 or (i+1)%n == 0:\r\n",
        "             continue\r\n",
        "            s = b[i]\r\n",
        "            s = s - A[i][i-n]*xn[i-n] - A[i][i-1]*xn[i-1] - A[i][i+1]*x[i+1] - A[i][i+n]*x[i+n]\r\n",
        "            xn[i]=(1-omega)*x[i]+(omega/(A[i][i]))*s\r\n",
        "          r = (xn[0]-x[0])*(xn[0]-x[0])    \r\n",
        "          disp = (xn[0]-x[0])*(xn[0]-x[0])\r\n",
        "          for i in range(n+1,N-n-1):\r\n",
        "            if i%n == 0 or (i+1)%n == 0:\r\n",
        "             continue\r\n",
        "            r = r + (xn[i]-x[i])*(xn[i]-x[i])  \r\n",
        "            dispc=(xn[i]-x[i])*(xn[i]-x[i])\r\n",
        "            if(dispc>disp):\r\n",
        "               disp=dispc\r\n",
        "          x = xn[:]\r\n",
        "          r = math.sqrt(r)\r\n",
        "          disp = math.sqrt(disp)\r\n",
        "          residual_history.append(r)\r\n",
        "          disp_history.append(disp)\r\n",
        "          count = count+1\r\n",
        "    elapsed_time = time.time() - start_time\r\n",
        "    print(elapsed_time)\r\n",
        "    return x, residual_history, disp_history, count"
      ],
      "execution_count": 13,
      "outputs": []
    },
    {
      "cell_type": "code",
      "metadata": {
        "id": "jj4-rVXDtpqh"
      },
      "source": [
        "def sparse_JOR(A, b, x, omega=1.5, eps=_eps, maxiter=_maxiter):\r\n",
        "    start_time = time.time()\r\n",
        "    #x = _basic_check(A, b, x0)   \r\n",
        "    residual_history = list()\r\n",
        "    disp_history = list()\r\n",
        "    N = b.size\r\n",
        "    n = int(math.sqrt(N))\r\n",
        "    count = 0\r\n",
        "    disp = eps+1\r\n",
        "    while (count<maxiter and disp>eps):\r\n",
        "          xn = np.zeros(N)\r\n",
        "          for i in range(n+1,N-n-1):\r\n",
        "            if i%n == 0 or (i+1)%n == 0:\r\n",
        "             continue\r\n",
        "            s = b[i]\r\n",
        "            s = s - A[i][i-n]*x[i-n] - A[i][i-1]*x[i-1] - A[i][i+1]*x[i+1] - A[i][i+n]*x[i+n]\r\n",
        "            xn[i]=(1-omega)*x[i]+(omega/(A[i][i]))*s\r\n",
        "          r = (xn[0]-x[0])*(xn[0]-x[0])\r\n",
        "          disp = (xn[0]-x[0])*(xn[0]-x[0])\r\n",
        "          for i in range(n+1,N-n-1):\r\n",
        "            if i%n == 0 or (i+1)%n == 0:\r\n",
        "             continue\r\n",
        "            r = r + (xn[i]-x[i])*(xn[i]-x[i])  \r\n",
        "            dispc=(xn[i]-x[i])*(xn[i]-x[i])\r\n",
        "            if(dispc>disp): disp=dispc\r\n",
        "          x = xn[:]\r\n",
        "          r = math.sqrt(r)\r\n",
        "          disp = math.sqrt(disp)\r\n",
        "          residual_history.append(r)\r\n",
        "          disp_history.append(disp)\r\n",
        "          count = count+1\r\n",
        "    elapsed_time = time.time() - start_time\r\n",
        "    print(elapsed_time)\r\n",
        "    return x, residual_history, disp_history, count"
      ],
      "execution_count": 14,
      "outputs": []
    },
    {
      "cell_type": "code",
      "metadata": {
        "id": "Z2UjmkmCWu0E"
      },
      "source": [
        "def v_multigrid(x, min=2, omega=1.633, sig=1, sor=1, mode=0):\r\n",
        "  if (mode==0) : rest = restrict_injection\r\n",
        "  elif (mode==1) : rest = restrict_half\r\n",
        "  elif (mode==2) : rest = restrict_full\r\n",
        "  if (sor==0) : solver = sparse_JOR\r\n",
        "  elif (sor==1) : solver = sparse_SOR\r\n",
        "  start_time = time.time()\r\n",
        "  a=x.size\r\n",
        "  rank=0\r\n",
        "  while(a!=1):\r\n",
        "    a=int(a/2)\r\n",
        "    rank=rank+1\r\n",
        "  count=rank\r\n",
        "  print(rank)\r\n",
        "  print('         Start restriction')\r\n",
        "  i=1\r\n",
        "  total=0\r\n",
        "  while(count>(min)):\r\n",
        "    N=x.size\r\n",
        "    print(N)\r\n",
        "    n=int(math.sqrt(N))\r\n",
        "    h=1/(n)\r\n",
        "    A = fivediag(N, n ,h, sig)\r\n",
        "    f = function(N,h)\r\n",
        "    e=(1/i)\r\n",
        "    x,r,d,c = solver(A,f,x,omega,e,1000)\r\n",
        "    print(c)\r\n",
        "    total = total + c/(2**(rank-count))\r\n",
        "    plot_heatmap(x)\r\n",
        "    x=rest(x)\r\n",
        "    i=i*1000000000\r\n",
        "    count=count-2\r\n",
        "  print(x)\r\n",
        "  print(count)\r\n",
        "  print('GOAL COUNT')\r\n",
        "  print(rank)\r\n",
        "  print(x.size)\r\n",
        "  print('         Start prolognation')\r\n",
        "  while(count<(rank+1)):\r\n",
        "    N=x.size\r\n",
        "    n=int(math.sqrt(N))\r\n",
        "    h=1/(n)\r\n",
        "    A = fivediag(N, n ,h, sig)\r\n",
        "    f = function(N,h)\r\n",
        "    #e=(1/i)\r\n",
        "    if (count!=rank):\r\n",
        "      x,r,d,c = solver(A,f,x,omega,1e-12,1000)\r\n",
        "    else:\r\n",
        "      x,r,d,c = solver(A,f,x,omega,1e-6,100000)\r\n",
        "    print(x.size)\r\n",
        "    print(c)\r\n",
        "    total = total + c/(2**(rank-count))\r\n",
        "    #print(c1)\r\n",
        "    plot_heatmap(x)\r\n",
        "    if(count!=rank):\r\n",
        "      x=prolongate_injection(x)\r\n",
        "    print(x.size)\r\n",
        "    i=i/100000000\r\n",
        "    count=count+2\r\n",
        "\r\n",
        "  \r\n",
        "  elapsed_time = time.time() - start_time\r\n",
        "  print('V_MultiGrid Took')\r\n",
        "  print(elapsed_time)\r\n",
        "  print('Number of equivalent iterations on the FINE GRID')\r\n",
        "  print(total)\r\n",
        "  return x"
      ],
      "execution_count": 15,
      "outputs": []
    },
    {
      "cell_type": "code",
      "metadata": {
        "id": "YTiynBp5h0Wj"
      },
      "source": [
        "def w_multigrid(x, min=4, intermediate=6,  omega=1.633, sig=1, sor=1, mode=0):\r\n",
        "  if (mode==0) : rest = restrict_injection\r\n",
        "  elif (mode==1) : rest = restrict_half\r\n",
        "  elif (mode==2) : rest = restrict_full\r\n",
        "  if (sor==0) : solver = sparse_JOR\r\n",
        "  elif (sor==1) : solver = sparse_SOR\r\n",
        "  start_time = time.time()\r\n",
        "  total = 0\r\n",
        "  a=x.size\r\n",
        "  rank=0\r\n",
        "  while(a!=1):\r\n",
        "    a=int(a/2)\r\n",
        "    rank=rank+1\r\n",
        "  count=rank\r\n",
        "  print(rank)\r\n",
        "  print('                   Start restriction')\r\n",
        "  i=1\r\n",
        "  while(count>(min)):\r\n",
        "    N=x.size\r\n",
        "    print(N)\r\n",
        "    n=int(math.sqrt(N))\r\n",
        "    h=1/(n)\r\n",
        "    A = fivediag(N, n ,h, sig)\r\n",
        "    f = function(N,h)\r\n",
        "    e=(1/i)\r\n",
        "    x,r,d,c = solver(A,f,x,omega,e,i)\r\n",
        "    print(c)\r\n",
        "    total = total + c/(2**(rank-count))\r\n",
        "    plot_heatmap(x)\r\n",
        "    x=rest(x)\r\n",
        "    i=i*1000\r\n",
        "    count=count-2\r\n",
        "  print(x)\r\n",
        "  print(count)\r\n",
        "  print('GOAL COUNT')\r\n",
        "  print(rank)\r\n",
        "  print(x.size)\r\n",
        "  print('                     Start prolognation to intermediate phase')\r\n",
        "\r\n",
        "  while(count<(intermediate+1)):\r\n",
        "    e=(1/i)\r\n",
        "    i=i/1000\r\n",
        "    N=x.size\r\n",
        "    n=int(math.sqrt(N))\r\n",
        "    h=1/(n)\r\n",
        "    A = fivediag(N, n ,h, sig)\r\n",
        "    f = function(N,h)\r\n",
        "    x,r,d,c = solver(A,f,x,omega,e,i)\r\n",
        "    print(x.size)\r\n",
        "    total = total + c/(2**(rank-count))\r\n",
        "    print(c)\r\n",
        "    plot_heatmap(x)\r\n",
        "    if(count!=rank):\r\n",
        "      x=prolongate_injection(x)\r\n",
        "    print(x.size)\r\n",
        "    count=count+2\r\n",
        "\r\n",
        "\r\n",
        "  print('                   Start restriction from intermediate phase to minimum COARSE phase')\r\n",
        "  while(count>(min)):\r\n",
        "    i=i*1000\r\n",
        "    N=x.size\r\n",
        "    print(N)\r\n",
        "    n=int(math.sqrt(N))\r\n",
        "    h=1/(n)\r\n",
        "    A = fivediag(N, n ,h, sig)\r\n",
        "    f = function(N,h)\r\n",
        "    e=(1/i)\r\n",
        "    x,r,d,c = solver(A,f,x,omega,e,i)\r\n",
        "    print(c)\r\n",
        "    total = total + c/(2**(rank-count))\r\n",
        "    plot_heatmap(x)\r\n",
        "    x=rest(x)\r\n",
        "    count=count-2\r\n",
        "\r\n",
        "  print('                   Start prolongation from minimum COARSE phase to FINE grid')\r\n",
        "  \r\n",
        "  while(count<(rank+1)):\r\n",
        "    c=0\r\n",
        "    c1=0\r\n",
        "    e=(1/i)\r\n",
        "    i=i/1000\r\n",
        "    N=x.size\r\n",
        "    n=int(math.sqrt(N))\r\n",
        "    h=1/(n)\r\n",
        "    A = fivediag(N, n ,h, sig)\r\n",
        "    f = function(N,h)\r\n",
        "    if (count!=rank):\r\n",
        "      x,r,d,c = solver(A,f,x,omega,e,i)\r\n",
        "    else:\r\n",
        "      x,r,d,c = solver(A,f,x,omega,1e-6,1000000)\r\n",
        "      \r\n",
        "    print(x.size)\r\n",
        "    print(c)\r\n",
        "    total = total + c/(2**(rank-count))\r\n",
        "    plot_heatmap(x)\r\n",
        "    if (count!=rank):\r\n",
        "      x=prolongate_injection(x)\r\n",
        "    print(x.size)\r\n",
        "    count=count+2\r\n",
        "\r\n",
        "  \r\n",
        "  elapsed_time = time.time() - start_time\r\n",
        "  print('W_MultiGrid Took')\r\n",
        "  print(elapsed_time)\r\n",
        "  print('Number of equivalent iterations on the FINE GRID')\r\n",
        "  print(total)\r\n",
        "  return x"
      ],
      "execution_count": 16,
      "outputs": []
    },
    {
      "cell_type": "code",
      "metadata": {
        "colab": {
          "base_uri": "https://localhost:8080/"
        },
        "id": "qhFnRjgZgU1y",
        "outputId": "462aade3-1dc8-4f95-92fc-399b94555ec4"
      },
      "source": [
        "e=14\r\n",
        "#This is our initial guess \r\n",
        "#u = np.arange(start=1, stop=2**e+1, step=1, dtype=float)\r\n",
        "u = np.zeros(2**e)  \r\n",
        "u.size"
      ],
      "execution_count": 17,
      "outputs": [
        {
          "output_type": "execute_result",
          "data": {
            "text/plain": [
              "16384"
            ]
          },
          "metadata": {
            "tags": []
          },
          "execution_count": 17
        }
      ]
    },
    {
      "cell_type": "code",
      "metadata": {
        "colab": {
          "base_uri": "https://localhost:8080/",
          "height": 1000
        },
        "id": "ZIJ1XQyMcwB2",
        "outputId": "665b620b-0d06-4ba1-c857-eef195186cd0"
      },
      "source": [
        "x = w_multigrid(u, min=4, intermediate=6,  omega=0.6, sig=1, sor=0, mode=1)"
      ],
      "execution_count": 152,
      "outputs": [
        {
          "output_type": "stream",
          "text": [
            "14\n",
            "                   Start restriction\n",
            "16384\n",
            "0.1070704460144043\n",
            "1\n"
          ],
          "name": "stdout"
        },
        {
          "output_type": "display_data",
          "data": {
            "image/png": "[encoded data removed]",
            "text/plain": [
              "<Figure size 432x288 with 1 Axes>"
            ]
          },
          "metadata": {
            "tags": [],
            "needs_background": "light"
          }
        },
        {
          "output_type": "stream",
          "text": [
            "4096\n",
            "28.924018383026123\n",
            "1000\n"
          ],
          "name": "stdout"
        },
        {
          "output_type": "display_data",
          "data": {
            "image/png": "[encoded data removed]",
            "text/plain": [
              "<Figure size 432x288 with 1 Axes>"
            ]
          },
          "metadata": {
            "tags": [],
            "needs_background": "light"
          }
        },
        {
          "output_type": "stream",
          "text": [
            "1024\n",
            "21.50834059715271\n",
            "3530\n"
          ],
          "name": "stdout"
        },
        {
          "output_type": "display_data",
          "data": {
            "image/png": "[encoded data removed]",
            "text/plain": [
              "<Figure size 432x288 with 1 Axes>"
            ]
          },
          "metadata": {
            "tags": [],
            "needs_background": "light"
          }
        },
        {
          "output_type": "stream",
          "text": [
            "256\n",
            "1.752291202545166\n",
            "1399\n"
          ],
          "name": "stdout"
        },
        {
          "output_type": "display_data",
          "data": {
            "image/png": "[encoded data removed]",
            "text/plain": [
              "<Figure size 432x288 with 1 Axes>"
            ]
          },
          "metadata": {
            "tags": [],
            "needs_background": "light"
          }
        },
        {
          "output_type": "stream",
          "text": [
            "64\n",
            "0.10878515243530273\n",
            "414\n"
          ],
          "name": "stdout"
        },
        {
          "output_type": "display_data",
          "data": {
            "image/png": "[encoded data removed]",
            "text/plain": [
              "<Figure size 432x288 with 1 Axes>"
            ]
          },
          "metadata": {
            "tags": [],
            "needs_background": "light"
          }
        },
        {
          "output_type": "stream",
          "text": [
            "[0.         0.         0.         0.         0.         0.40747275\n",
            " 0.51735956 0.         0.         0.78264992 0.96992768 0.\n",
            " 0.         0.         0.         0.        ]\n",
            "4\n",
            "GOAL COUNT\n",
            "14\n",
            "16\n",
            "                     Start prolognation to intermediate phase\n",
            "0.00443577766418457\n",
            "16\n",
            "92\n"
          ],
          "name": "stdout"
        },
        {
          "output_type": "display_data",
          "data": {
            "image/png": "[encoded data removed]",
            "text/plain": [
              "<Figure size 432x288 with 1 Axes>"
            ]
          },
          "metadata": {
            "tags": [],
            "needs_background": "light"
          }
        },
        {
          "output_type": "stream",
          "text": [
            "64\n",
            "0.10143399238586426\n",
            "64\n",
            "391\n"
          ],
          "name": "stdout"
        },
        {
          "output_type": "display_data",
          "data": {
            "image/png": "[encoded data removed]",
            "text/plain": [
              "<Figure size 432x288 with 1 Axes>"
            ]
          },
          "metadata": {
            "tags": [],
            "needs_background": "light"
          }
        },
        {
          "output_type": "stream",
          "text": [
            "256\n",
            "                   Start restriction from intermediate phase to minimum COARSE phase\n",
            "256\n",
            "2.3110194206237793\n",
            "1798\n"
          ],
          "name": "stdout"
        },
        {
          "output_type": "display_data",
          "data": {
            "image/png": "[encoded data removed]",
            "text/plain": [
              "<Figure size 432x288 with 1 Axes>"
            ]
          },
          "metadata": {
            "tags": [],
            "needs_background": "light"
          }
        },
        {
          "output_type": "stream",
          "text": [
            "64\n",
            "0.14325976371765137\n",
            "523\n"
          ],
          "name": "stdout"
        },
        {
          "output_type": "display_data",
          "data": {
            "image/png": "[encoded data removed]",
            "text/plain": [
              "<Figure size 432x288 with 1 Axes>"
            ]
          },
          "metadata": {
            "tags": [],
            "needs_background": "light"
          }
        },
        {
          "output_type": "stream",
          "text": [
            "                   Start prolongation from minimum COARSE phase to FINE grid\n",
            "0.0027894973754882812\n",
            "16\n",
            "92\n"
          ],
          "name": "stdout"
        },
        {
          "output_type": "display_data",
          "data": {
            "image/png": "[encoded data removed]",
            "text/plain": [
              "<Figure size 432x288 with 1 Axes>"
            ]
          },
          "metadata": {
            "tags": [],
            "needs_background": "light"
          }
        },
        {
          "output_type": "stream",
          "text": [
            "64\n",
            "0.0996849536895752\n",
            "64\n",
            "391\n"
          ],
          "name": "stdout"
        },
        {
          "output_type": "display_data",
          "data": {
            "image/png": "[encoded data removed]",
            "text/plain": [
              "<Figure size 432x288 with 1 Axes>"
            ]
          },
          "metadata": {
            "tags": [],
            "needs_background": "light"
          }
        },
        {
          "output_type": "stream",
          "text": [
            "256\n",
            "1.6556086540222168\n",
            "256\n",
            "1296\n"
          ],
          "name": "stdout"
        },
        {
          "output_type": "display_data",
          "data": {
            "image/png": "[encoded data removed]",
            "text/plain": [
              "<Figure size 432x288 with 1 Axes>"
            ]
          },
          "metadata": {
            "tags": [],
            "needs_background": "light"
          }
        },
        {
          "output_type": "stream",
          "text": [
            "1024\n",
            "6.074995756149292\n",
            "1024\n",
            "1000\n"
          ],
          "name": "stdout"
        },
        {
          "output_type": "display_data",
          "data": {
            "image/png": "[encoded data removed]",
            "text/plain": [
              "<Figure size 432x288 with 1 Axes>"
            ]
          },
          "metadata": {
            "tags": [],
            "needs_background": "light"
          }
        },
        {
          "output_type": "stream",
          "text": [
            "4096\n",
            "0.025865554809570312\n",
            "4096\n",
            "1\n"
          ],
          "name": "stdout"
        },
        {
          "output_type": "display_data",
          "data": {
            "image/png": "[encoded data removed]",
            "text/plain": [
              "<Figure size 432x288 with 1 Axes>"
            ]
          },
          "metadata": {
            "tags": [],
            "needs_background": "light"
          }
        },
        {
          "output_type": "stream",
          "text": [
            "16384\n",
            "6469.185967206955\n",
            "16384\n",
            "57738\n"
          ],
          "name": "stdout"
        },
        {
          "output_type": "display_data",
          "data": {
            "image/png": "[encoded data removed]",
            "text/plain": [
              "<Figure size 432x288 with 1 Axes>"
            ]
          },
          "metadata": {
            "tags": [],
            "needs_background": "light"
          }
        },
        {
          "output_type": "stream",
          "text": [
            "16384\n",
            "W_MultiGrid Took\n",
            "6546.728039741516\n",
            "Number of equivalent iterations on the FINE GRID\n",
            "58349.47265625\n"
          ],
          "name": "stdout"
        }
      ]
    },
    {
      "cell_type": "code",
      "metadata": {
        "colab": {
          "base_uri": "https://localhost:8080/",
          "height": 1000
        },
        "id": "wC2xdenhrdoy",
        "outputId": "66201411-24ed-4be4-eeb0-e52ab2cf3902"
      },
      "source": [
        "x = v_multigrid(u, min=4,  omega=0.6, sig=1, sor=0, mode=1)"
      ],
      "execution_count": 141,
      "outputs": [
        {
          "output_type": "stream",
          "text": [
            "12\n",
            "         Start restriction\n",
            "4096\n",
            "0.026025772094726562\n",
            "1\n"
          ],
          "name": "stdout"
        },
        {
          "output_type": "display_data",
          "data": {
            "image/png": "[encoded data removed]",
            "text/plain": [
              "<Figure size 432x288 with 1 Axes>"
            ]
          },
          "metadata": {
            "tags": [],
            "needs_background": "light"
          }
        },
        {
          "output_type": "stream",
          "text": [
            "1024\n",
            "6.1778504848480225\n",
            "1000\n"
          ],
          "name": "stdout"
        },
        {
          "output_type": "display_data",
          "data": {
            "image/png": "[encoded data removed]",
            "text/plain": [
              "<Figure size 432x288 with 1 Axes>"
            ]
          },
          "metadata": {
            "tags": [],
            "needs_background": "light"
          }
        },
        {
          "output_type": "stream",
          "text": [
            "256\n",
            "1.2906444072723389\n",
            "1000\n"
          ],
          "name": "stdout"
        },
        {
          "output_type": "display_data",
          "data": {
            "image/png": "[encoded data removed]",
            "text/plain": [
              "<Figure size 432x288 with 1 Axes>"
            ]
          },
          "metadata": {
            "tags": [],
            "needs_background": "light"
          }
        },
        {
          "output_type": "stream",
          "text": [
            "64\n",
            "0.15435171127319336\n",
            "575\n"
          ],
          "name": "stdout"
        },
        {
          "output_type": "display_data",
          "data": {
            "image/png": "[encoded data removed]",
            "text/plain": [
              "<Figure size 432x288 with 1 Axes>"
            ]
          },
          "metadata": {
            "tags": [],
            "needs_background": "light"
          }
        },
        {
          "output_type": "stream",
          "text": [
            "[0.         0.         0.         0.         0.         0.40747275\n",
            " 0.51735956 0.         0.         0.78264992 0.96992768 0.\n",
            " 0.         0.         0.         0.        ]\n",
            "4\n",
            "GOAL COUNT\n",
            "12\n",
            "16\n",
            "         Start prolognation\n",
            "0.0023970603942871094\n",
            "16\n",
            "73\n"
          ],
          "name": "stdout"
        },
        {
          "output_type": "display_data",
          "data": {
            "image/png": "[encoded data removed]",
            "text/plain": [
              "<Figure size 432x288 with 1 Axes>"
            ]
          },
          "metadata": {
            "tags": [],
            "needs_background": "light"
          }
        },
        {
          "output_type": "stream",
          "text": [
            "64\n",
            "0.09755802154541016\n",
            "64\n",
            "391\n"
          ],
          "name": "stdout"
        },
        {
          "output_type": "display_data",
          "data": {
            "image/png": "[encoded data removed]",
            "text/plain": [
              "<Figure size 432x288 with 1 Axes>"
            ]
          },
          "metadata": {
            "tags": [],
            "needs_background": "light"
          }
        },
        {
          "output_type": "stream",
          "text": [
            "256\n",
            "1.2795956134796143\n",
            "256\n",
            "1000\n"
          ],
          "name": "stdout"
        },
        {
          "output_type": "display_data",
          "data": {
            "image/png": "[encoded data removed]",
            "text/plain": [
              "<Figure size 432x288 with 1 Axes>"
            ]
          },
          "metadata": {
            "tags": [],
            "needs_background": "light"
          }
        },
        {
          "output_type": "stream",
          "text": [
            "1024\n",
            "6.079994440078735\n",
            "1024\n",
            "1000\n"
          ],
          "name": "stdout"
        },
        {
          "output_type": "display_data",
          "data": {
            "image/png": "[encoded data removed]",
            "text/plain": [
              "<Figure size 432x288 with 1 Axes>"
            ]
          },
          "metadata": {
            "tags": [],
            "needs_background": "light"
          }
        },
        {
          "output_type": "stream",
          "text": [
            "4096\n",
            "376.4861307144165\n",
            "4096\n",
            "13954\n"
          ],
          "name": "stdout"
        },
        {
          "output_type": "display_data",
          "data": {
            "image/png": "[encoded data removed]",
            "text/plain": [
              "<Figure size 432x288 with 1 Axes>"
            ]
          },
          "metadata": {
            "tags": [],
            "needs_background": "light"
          }
        },
        {
          "output_type": "stream",
          "text": [
            "4096\n",
            "V_MultiGrid Took\n",
            "393.67645144462585\n",
            "Number of equivalent iterations on the FINE GRID\n",
            "14595.37890625\n"
          ],
          "name": "stdout"
        }
      ]
    },
    {
      "cell_type": "code",
      "metadata": {
        "colab": {
          "base_uri": "https://localhost:8080/",
          "height": 304
        },
        "id": "t-Tshi-CDaHZ",
        "outputId": "170052e5-d1d8-4a9b-df37-9cc821630450"
      },
      "source": [
        "N=u.size    \r\n",
        "n=int(math.sqrt(N))\r\n",
        "h=1/(n)\r\n",
        "A = fivediag(N, n ,h, 0)\r\n",
        "f = function(N,h)\r\n",
        "print('Conventional SOR exclusively on the FINE grid took')\r\n",
        "u2,r,d,c = sparse_SOR(A,f,u,0.6,1e-6,800)\r\n",
        "plot_heatmap(u2)"
      ],
      "execution_count": 24,
      "outputs": [
        {
          "output_type": "stream",
          "text": [
            "Conventional SOR exclusively on the FINE grid took\n",
            "87.98614287376404\n"
          ],
          "name": "stdout"
        },
        {
          "output_type": "display_data",
          "data": {
            "image/png": "[encoded data removed]",
            "text/plain": [
              "<Figure size 432x288 with 1 Axes>"
            ]
          },
          "metadata": {
            "tags": [],
            "needs_background": "light"
          }
        }
      ]
    },
    {
      "cell_type": "code",
      "metadata": {
        "id": "0LhMKo5RRwUT",
        "colab": {
          "base_uri": "https://localhost:8080/"
        },
        "outputId": "29de2abb-0634-4990-c393-cc0299c99055"
      },
      "source": [
        "d"
      ],
      "execution_count": 25,
      "outputs": [
        {
          "output_type": "execute_result",
          "data": {
            "text/plain": [
              "[0.21018535536836083,\n",
              " 0.20686234027668615,\n",
              " 0.20356589342323583,\n",
              " 0.20237311688600956,\n",
              " 0.20006938228391802,\n",
              " 0.1994883692191396,\n",
              " 0.1985187415001588,\n",
              " 0.1971416088789344,\n",
              " 0.1961858798173879,\n",
              " 0.19558666140472059,\n",
              " 0.19481744436343584,\n",
              " 0.19388716291311914,\n",
              " 0.1928024156368675,\n",
              " 0.19234978981955253,\n",
              " 0.19182432228023094,\n",
              " 0.19121105513925407,\n",
              " 0.19052204022137786,\n",
              " 0.18976356281401952,\n",
              " 0.1890290549120639,\n",
              " 0.18862386211095306,\n",
              " 0.18817928433911169,\n",
              " 0.18768959118916584,\n",
              " 0.18715635130811137,\n",
              " 0.18658186888061046,\n",
              " 0.1859774392359821,\n",
              " 0.18536964227061148,\n",
              " 0.18501961041256187,\n",
              " 0.1846417159915923,\n",
              " 0.18424063789282386,\n",
              " 0.18381797715416415,\n",
              " 0.18337190392054925,\n",
              " 0.18290361275315714,\n",
              " 0.18241430383512647,\n",
              " 0.18190989082669162,\n",
              " 0.18151630890185544,\n",
              " 0.1812001418027398,\n",
              " 0.18086799491314487,\n",
              " 0.1805204275047032,\n",
              " 0.1801607217914185,\n",
              " 0.1797895301598098,\n",
              " 0.17940538416737528,\n",
              " 0.17900890154214988,\n",
              " 0.17860069003305146,\n",
              " 0.1781814142420277,\n",
              " 0.177836839775674,\n",
              " 0.17755985153068643,\n",
              " 0.17727315458935955,\n",
              " 0.17697707411199204,\n",
              " 0.1766719361074287,\n",
              " 0.1763580656357533,\n",
              " 0.1760393180450901,\n",
              " 0.17571300767789566,\n",
              " 0.1753793114332538,\n",
              " 0.17503855148947522,\n",
              " 0.17469104241355105,\n",
              " 0.17433709060914993,\n",
              " 0.17406976157900367,\n",
              " 0.1738230476341709,\n",
              " 0.17357031230090492,\n",
              " 0.17331174547703654,\n",
              " 0.17304753539897177,\n",
              " 0.17277786815716567,\n",
              " 0.17250292728745364,\n",
              " 0.17222488637081312,\n",
              " 0.17194287370322314,\n",
              " 0.17165633874567376,\n",
              " 0.17136545772588896,\n",
              " 0.17107040264327722,\n",
              " 0.17077134115631587,\n",
              " 0.1704912134045582,\n",
              " 0.17027285261303327,\n",
              " 0.1700519641148226,\n",
              " 0.16982726423914585,\n",
              " 0.1695988647683162,\n",
              " 0.16936687593278243,\n",
              " 0.1691314062846061,\n",
              " 0.16889256259139884,\n",
              " 0.16865044974883503,\n",
              " 0.16840690211400045,\n",
              " 0.16816081315191767,\n",
              " 0.16791188915542143,\n",
              " 0.16766022949238568,\n",
              " 0.1674059312332048,\n",
              " 0.1671490891374905,\n",
              " 0.16688979564998263,\n",
              " 0.16668254984964115,\n",
              " 0.16648628267037147,\n",
              " 0.16628820389250443,\n",
              " 0.1660876620132612,\n",
              " 0.1658847237953811,\n",
              " 0.16567945494832514,\n",
              " 0.1654719200976995,\n",
              " 0.16526218276048432,\n",
              " 0.16505030532555054,\n",
              " 0.164836638233254,\n",
              " 0.16462237829130544,\n",
              " 0.16440623981678115,\n",
              " 0.16418828181780043,\n",
              " 0.16396856205112798,\n",
              " 0.16374713702432686,\n",
              " 0.16352406200078562,\n",
              " 0.16329939100723223,\n",
              " 0.16308928581587878,\n",
              " 0.16291352882639742,\n",
              " 0.16273740825262806,\n",
              " 0.16255962138516722,\n",
              " 0.16238020951810128,\n",
              " 0.16219921330076303,\n",
              " 0.16201667273024967,\n",
              " 0.16183262714575974,\n",
              " 0.16164711522468167,\n",
              " 0.16146017498022402,\n",
              " 0.16127184376051673,\n",
              " 0.16108321752864896,\n",
              " 0.16089362509896077,\n",
              " 0.16070280300348116,\n",
              " 0.16051078652313322,\n",
              " 0.16031761024502345,\n",
              " 0.16012330806751862,\n",
              " 0.159927913206257,\n",
              " 0.15973145820075274,\n",
              " 0.15953397492168975,\n",
              " 0.1593604570666436,\n",
              " 0.1592026819659118,\n",
              " 0.15904403842026227,\n",
              " 0.15888427548643236,\n",
              " 0.15872341884917418,\n",
              " 0.1585614938007751,\n",
              " 0.15839852524069897,\n",
              " 0.15823453767580986,\n",
              " 0.15806955522118216,\n",
              " 0.15790360160131556,\n",
              " 0.1577367001518475,\n",
              " 0.15756951917861883,\n",
              " 0.15740193223945198,\n",
              " 0.1572335007503085,\n",
              " 0.1570642468120269,\n",
              " 0.15689419213025246,\n",
              " 0.1567233580191285,\n",
              " 0.1565517654051689,\n",
              " 0.15637943483143246,\n",
              " 0.1562063864617862,\n",
              " 0.156032640085499,\n",
              " 0.15585821512183884,\n",
              " 0.1557023914029152,\n",
              " 0.15556013861716167,\n",
              " 0.15541710277584286,\n",
              " 0.15527330044815102,\n",
              " 0.15512874796540643,\n",
              " 0.15498346142185682,\n",
              " 0.1548374566757289,\n",
              " 0.15469074935036886,\n",
              " 0.1545433548356705,\n",
              " 0.15439528828954963,\n",
              " 0.15424656463964226,\n",
              " 0.154097701764357,\n",
              " 0.15394865049957218,\n",
              " 0.15379901001119123,\n",
              " 0.15364879447855628,\n",
              " 0.15349801785044193,\n",
              " 0.15334669384737865,\n",
              " 0.1531948359640367,\n",
              " 0.15304245747169531,\n",
              " 0.1528895714207934,\n",
              " 0.15273619064352673,\n",
              " 0.15258232775647684,\n",
              " 0.1524279958110455,\n",
              " 0.15227405404159455,\n",
              " 0.1521205413230362,\n",
              " 0.15199192007202456,\n",
              " 0.15186275379204162,\n",
              " 0.15173305324324815,\n",
              " 0.15160282904070144,\n",
              " 0.15147209165535358,\n",
              " 0.15134085141494324,\n",
              " 0.15120911850507568,\n",
              " 0.1510769029703063,\n",
              " 0.1509442147152562,\n",
              " 0.1508110635058273,\n",
              " 0.1506779511996612,\n",
              " 0.15054469296310913,\n",
              " 0.15041101746145813,\n",
              " 0.15027693399905928,\n",
              " 0.15014245174251073,\n",
              " 0.15000757972211076,\n",
              " 0.14987232683326468,\n",
              " 0.14973670183797338,\n",
              " 0.14960071336627578,\n",
              " 0.14946436991779422,\n",
              " 0.1493276798632266,\n",
              " 0.14919065144588473,\n",
              " 0.14905340492201447,\n",
              " 0.1489164412066657,\n",
              " 0.14877917752889047,\n",
              " 0.14864162169648765,\n",
              " 0.14850378139358966,\n",
              " 0.1483839305485617,\n",
              " 0.14826667753992595,\n",
              " 0.1481490530114975,\n",
              " 0.1480310639224811,\n",
              " 0.1479127171439103,\n",
              " 0.14779401945939696,\n",
              " 0.14767497756585968,\n",
              " 0.14755559807428753,\n",
              " 0.14743588751049685,\n",
              " 0.1473163864856275,\n",
              " 0.14719670278614672,\n",
              " 0.14707671944096745,\n",
              " 0.14695644268564223,\n",
              " 0.146835878671574,\n",
              " 0.14671503346689008,\n",
              " 0.1465939130572167,\n",
              " 0.14647252334661687,\n",
              " 0.14635087015845727,\n",
              " 0.14622895923620405,\n",
              " 0.146106796244446,\n",
              " 0.14598438676961933,\n",
              " 0.14586173632101662,\n",
              " 0.14573908360392807,\n",
              " 0.14561657953463225,\n",
              " 0.14549386101396067,\n",
              " 0.14537093328199546,\n",
              " 0.14524780150374283,\n",
              " 0.1451244707701349,\n",
              " 0.14500094609885394,\n",
              " 0.14487723243523476,\n",
              " 0.1447686784590303,\n",
              " 0.14466188491424958,\n",
              " 0.14455483322413443,\n",
              " 0.14444752799814609,\n",
              " 0.14433997379148167,\n",
              " 0.1442321751055573,\n",
              " 0.14412415780446963,\n",
              " 0.14401644726007135,\n",
              " 0.14390851441604013,\n",
              " 0.14380036358738835,\n",
              " 0.1436919990360792,\n",
              " 0.1435834249715171,\n",
              " 0.14347464555105915,\n",
              " 0.14336566488053393,\n",
              " 0.14325648701477434,\n",
              " 0.1431471159581008,\n",
              " 0.14303755566486132,\n",
              " 0.14292781003996424,\n",
              " 0.1428178829393545,\n",
              " 0.142707778170589,\n",
              " 0.14259749949329859,\n",
              " 0.14248738689396134,\n",
              " 0.14237729787721065,\n",
              " 0.14226705364085745,\n",
              " 0.14215665777393127,\n",
              " 0.14204611381887844,\n",
              " 0.14193542527202396,\n",
              " 0.14182459558409732,\n",
              " 0.1417136281608009,\n",
              " 0.14160252636325055,\n",
              " 0.14149129350853684,\n",
              " 0.14137993287022255,\n",
              " 0.14126844767886126,\n",
              " 0.141170221935063,\n",
              " 0.1410727284992248,\n",
              " 0.14097505574891755,\n",
              " 0.14087734162925614,\n",
              " 0.1407798062366652,\n",
              " 0.1406821073638156,\n",
              " 0.14058424801130087,\n",
              " 0.14048623114589276,\n",
              " 0.14038805970083956,\n",
              " 0.14028973657622146,\n",
              " 0.1401912646392276,\n",
              " 0.14009264672448296,\n",
              " 0.1399938856343681,\n",
              " 0.13989498413930335,\n",
              " 0.13979594497807568,\n",
              " 0.13969677085816556,\n",
              " 0.13959746445605248,\n",
              " 0.13949802841748493,\n",
              " 0.13939846535784284,\n",
              " 0.13929918507200512,\n",
              " 0.13919983122917046,\n",
              " 0.13910036377465218,\n",
              " 0.1390007852132129,\n",
              " 0.13890109801997141,\n",
              " 0.1388013046407579,\n",
              " 0.1387014074923556,\n",
              " 0.1386014089628418,\n",
              " 0.13850131141188626,\n",
              " 0.13840111717104264,\n",
              " 0.1383008285440681,\n",
              " 0.13820044780721474,\n",
              " 0.1380999772094924,\n",
              " 0.13799941897304535,\n",
              " 0.13789877529335826,\n",
              " 0.13779806722601506,\n",
              " 0.13769767804312494,\n",
              " 0.13760697802730704,\n",
              " 0.13751823992571843,\n",
              " 0.13742938238212332,\n",
              " 0.13734040749705656,\n",
              " 0.13725131734924645,\n",
              " 0.1371621139958492,\n",
              " 0.13707279947264794,\n",
              " 0.1369833757941734,\n",
              " 0.13689384495398826,\n",
              " 0.13680420892481493,\n",
              " 0.1367144696587559,\n",
              " 0.1366246290874642,\n",
              " 0.13653468912233535,\n",
              " 0.1364446516547133,\n",
              " 0.13635451855606817,\n",
              " 0.13626434002213728,\n",
              " 0.13617441319906476,\n",
              " 0.13608440057894455,\n",
              " 0.1359943039597269,\n",
              " 0.13590412511990735,\n",
              " 0.13581386581878974,\n",
              " 0.135723527796614,\n",
              " 0.1356331127747481,\n",
              " 0.1355426224559153,\n",
              " 0.13545205852432218,\n",
              " 0.1353614226458788,\n",
              " 0.13527071646833377,\n",
              " 0.1351799416215087,\n",
              " 0.13508909971744743,\n",
              " 0.13499819235062205,\n",
              " 0.13490722109800402,\n",
              " 0.13481618751941937,\n",
              " 0.1347251866373398,\n",
              " 0.1346343990727661,\n",
              " 0.13454355752288905,\n",
              " 0.134452663482719,\n",
              " 0.13436171843044775,\n",
              " 0.13427072382774696,\n",
              " 0.13417968111983214,\n",
              " 0.13409257615627723,\n",
              " 0.13401128825849895,\n",
              " 0.13392991798266962,\n",
              " 0.1338484667686899,\n",
              " 0.13376693604264744,\n",
              " 0.13368532721688808,\n",
              " 0.13360364169020755,\n",
              " 0.1335218808479155,\n",
              " 0.13344004606197757,\n",
              " 0.1333581386911078,\n",
              " 0.1332761600809036,\n",
              " 0.13319420319946573,\n",
              " 0.13311242923765576,\n",
              " 0.13303059131310846,\n",
              " 0.13294869072178273,\n",
              " 0.13286672874680505,\n",
              " 0.1327847066585548,\n",
              " 0.1327026257148276,\n",
              " 0.13262048716093489,\n",
              " 0.13253829222975355,\n",
              " 0.13245604214192497,\n",
              " 0.13237373810595443,\n",
              " 0.1322913813182396,\n",
              " 0.1322089729632978,\n",
              " 0.132126514213752,\n",
              " 0.1320440062305721,\n",
              " 0.13196145016308236,\n",
              " 0.13187884714908904,\n",
              " 0.13179619831505818,\n",
              " 0.13171362532420972,\n",
              " 0.1316312093814176,\n",
              " 0.1315487538246103,\n",
              " 0.13146625973645598,\n",
              " 0.13138372818851707,\n",
              " 0.13130116024138516,\n",
              " 0.1312185569447024,\n",
              " 0.131135919337396,\n",
              " 0.13105324844764255,\n",
              " 0.1309705452930814,\n",
              " 0.1308878108808358,\n",
              " 0.1308050462076551,\n",
              " 0.13072225226001422,\n",
              " 0.13063943001419176,\n",
              " 0.13056046408843258,\n",
              " 0.1304858315825541,\n",
              " 0.13041114357081085,\n",
              " 0.13033640104419675,\n",
              " 0.13026160498492345,\n",
              " 0.13018684714108275,\n",
              " 0.13011224849011427,\n",
              " 0.13003760176427903,\n",
              " 0.12996290791164,\n",
              " 0.12988816787161284,\n",
              " 0.12981338257503694,\n",
              " 0.12973855294427494,\n",
              " 0.12966367989323402,\n",
              " 0.12958876432747246,\n",
              " 0.12951380714426364,\n",
              " 0.12943880923266704,\n",
              " 0.12936377147357803,\n",
              " 0.1292886947398415,\n",
              " 0.12921357989625193,\n",
              " 0.129138427799667,\n",
              " 0.12906323929912844,\n",
              " 0.12898801523579095,\n",
              " 0.12891275644310696,\n",
              " 0.12883746374686922,\n",
              " 0.12876224240406486,\n",
              " 0.12868716723458107,\n",
              " 0.1286120628409222,\n",
              " 0.1285369300187611,\n",
              " 0.1284617695562389,\n",
              " 0.12838658223412125,\n",
              " 0.1283113688257771,\n",
              " 0.12823613009728518,\n",
              " 0.12816086680751937,\n",
              " 0.12808557970812018,\n",
              " 0.12801026954367956,\n",
              " 0.12793493705174086,\n",
              " 0.1278595829628344,\n",
              " 0.12778420800057688,\n",
              " 0.1277088128817354,\n",
              " 0.12763339831628429,\n",
              " 0.12755796500744765,\n",
              " 0.12748251365177055,\n",
              " 0.12740704493918287,\n",
              " 0.1273315595530562,\n",
              " 0.12725630323620152,\n",
              " 0.12718105302278104,\n",
              " 0.12710579012042444,\n",
              " 0.12703608027883462,\n",
              " 0.126967719314095,\n",
              " 0.12689932404737192,\n",
              " 0.12683089516411883,\n",
              " 0.1267624333440125,\n",
              " 0.12669393926103112,\n",
              " 0.1266254135833833,\n",
              " 0.1265568569736999,\n",
              " 0.12648827008898422,\n",
              " 0.1264196535806903,\n",
              " 0.1263510080947583,\n",
              " 0.12628233427162172,\n",
              " 0.12621363274634234,\n",
              " 0.1261449041485605,\n",
              " 0.12607614910260168,\n",
              " 0.12600736822744096,\n",
              " 0.1259385621368665,\n",
              " 0.12586978096012302,\n",
              " 0.1258011762333311,\n",
              " 0.12573254986159554,\n",
              " 0.12566390243754455,\n",
              " 0.125595234548733,\n",
              " 0.12552654677753594,\n",
              " 0.12545783970133328,\n",
              " 0.12538911389242458,\n",
              " 0.1253203699181853,\n",
              " 0.1252516083409958,\n",
              " 0.12518282971841188,\n",
              " 0.12511403460305104,\n",
              " 0.12504522354276304,\n",
              " 0.12497639708059438,\n",
              " 0.12490755575487356,\n",
              " 0.12483870009918974,\n",
              " 0.12476983064249936,\n",
              " 0.12470094790913322,\n",
              " 0.1246320524188036,\n",
              " 0.12456314468671081,\n",
              " 0.12449422522352194,\n",
              " 0.12442545471494526,\n",
              " 0.1243567491138009,\n",
              " 0.12428803483834372,\n",
              " 0.12421931238088746,\n",
              " 0.12415058222930497,\n",
              " 0.12408184486709217,\n",
              " 0.12401310077341066,\n",
              " 0.12394435042316587,\n",
              " 0.12387559428696449,\n",
              " 0.12380683283122096,\n",
              " 0.12373806651811492,\n",
              " 0.12366929580571195,\n",
              " 0.12360197929638161,\n",
              " 0.12353906146721272,\n",
              " 0.12347612198175995,\n",
              " 0.1234131613205065,\n",
              " 0.1233501799601342,\n",
              " 0.1232871783736158,\n",
              " 0.12322415703022216,\n",
              " 0.12316111639546534,\n",
              " 0.12309805693124076,\n",
              " 0.1230349790958769,\n",
              " 0.12297206176286579,\n",
              " 0.1229091714060786,\n",
              " 0.12284626541867283,\n",
              " 0.12278334424389925,\n",
              " 0.12272040832145592,\n",
              " 0.12265745808753081,\n",
              " 0.12259449397474498,\n",
              " 0.12253151641228044,\n",
              " 0.12246852582586598,\n",
              " 0.12240552263774873,\n",
              " 0.12234250726683626,\n",
              " 0.12227948012862555,\n",
              " 0.12221644163527401,\n",
              " 0.1221533921955853,\n",
              " 0.122090332215123,\n",
              " 0.12202726209604009,\n",
              " 0.12196418223742,\n",
              " 0.12190109303496399,\n",
              " 0.1218379948812327,\n",
              " 0.12177488816561777,\n",
              " 0.1217117732743418,\n",
              " 0.1216486862302304,\n",
              " 0.12158576520715769,\n",
              " 0.12152283837413336,\n",
              " 0.12145990610417812,\n",
              " 0.12139696876720052,\n",
              " 0.12133402673009641,\n",
              " 0.1212710803566921,\n",
              " 0.12120813000780117,\n",
              " 0.12114517604125297,\n",
              " 0.12108221881189252,\n",
              " 0.12101925867163743,\n",
              " 0.12095629596943525,\n",
              " 0.12089333105140554,\n",
              " 0.12083036426074045,\n",
              " 0.12076739593774732,\n",
              " 0.12070442641993395,\n",
              " 0.12064145604205123,\n",
              " 0.12057848513595104,\n",
              " 0.12051551403077099,\n",
              " 0.12045254305289177,\n",
              " 0.1203895725259514,\n",
              " 0.12032660277093044,\n",
              " 0.12026363410606677,\n",
              " 0.12020085353702825,\n",
              " 0.12014079500164598,\n",
              " 0.1200829935642389,\n",
              " 0.12002518082728386,\n",
              " 0.11996735712624229,\n",
              " 0.11990952279401768,\n",
              " 0.11985167816105502,\n",
              " 0.11979382355532664,\n",
              " 0.1197359593023748,\n",
              " 0.11967808572521221,\n",
              " 0.11962020314452104,\n",
              " 0.11956231187856758,\n",
              " 0.11950441224317387,\n",
              " 0.11944650455188821,\n",
              " 0.11938858911577199,\n",
              " 0.11933066624371236,\n",
              " 0.11927273624212376,\n",
              " 0.11921479941520374,\n",
              " 0.11915685606484772,\n",
              " 0.1190989064906347,\n",
              " 0.1190409509899979,\n",
              " 0.11898298985796885,\n",
              " 0.11892502338749011,\n",
              " 0.11886708124413303,\n",
              " 0.11880929111966054,\n",
              " 0.11875149748777858,\n",
              " 0.11869370063170948,\n",
              " 0.11863590083251552,\n",
              " 0.11857809836908473,\n",
              " 0.11852029351813087,\n",
              " 0.11846248655427871,\n",
              " 0.11840467775002139,\n",
              " 0.11834686737570621,\n",
              " 0.1182890556996199,\n",
              " 0.1182312429880028,\n",
              " 0.11817342950502052,\n",
              " 0.11811561551274963,\n",
              " 0.1180578012712914,\n",
              " 0.11799998703868653,\n",
              " 0.11794217307100041,\n",
              " 0.11788435962232313,\n",
              " 0.11782654694476946,\n",
              " 0.11776873528845044,\n",
              " 0.11771092490157287,\n",
              " 0.11765311603039663,\n",
              " 0.11759530891932002,\n",
              " 0.11753750381070915,\n",
              " 0.11747978956766758,\n",
              " 0.1174221646408995,\n",
              " 0.11736454327913748,\n",
              " 0.11730692571640589,\n",
              " 0.11724931218482482,\n",
              " 0.11719170291462433,\n",
              " 0.11713409813424391,\n",
              " 0.11707649807031828,\n",
              " 0.11701890294760631,\n",
              " 0.11696131298913315,\n",
              " 0.11690372841607655,\n",
              " 0.11684614944792315,\n",
              " 0.11678857630231221,\n",
              " 0.11673330218221167,\n",
              " 0.11667996401831715,\n",
              " 0.11662662061023354,\n",
              " 0.11657327219349156,\n",
              " 0.11651991900197345,\n",
              " 0.11646656126796984,\n",
              " 0.116413199221995,\n",
              " 0.1163598330930995,\n",
              " 0.11630646310861437,\n",
              " 0.11625308949433588,\n",
              " 0.11619971247439764,\n",
              " 0.1161463322714269,\n",
              " 0.11609294910641665,\n",
              " 0.11603971475481956,\n",
              " 0.11598649198445798,\n",
              " 0.115933267652224,\n",
              " 0.11588004197194834,\n",
              " 0.11582681515587012,\n",
              " 0.11577358741475052,\n",
              " 0.11572035895780175,\n",
              " 0.11566712999270123,\n",
              " 0.11561390072569111,\n",
              " 0.11556067136146453,\n",
              " 0.11550744210325092,\n",
              " 0.11545421315281601,\n",
              " 0.115400984710476,\n",
              " 0.1153477569749981,\n",
              " 0.1152945301438848,\n",
              " 0.1152413044130185,\n",
              " 0.11518807997698843,\n",
              " 0.11513485702890591,\n",
              " 0.11508163576050379,\n",
              " 0.11502841636209382,\n",
              " 0.11497519902265196,\n",
              " 0.11492198392971886,\n",
              " 0.11486877126949935,\n",
              " 0.1148155612268198,\n",
              " 0.11476235398517076,\n",
              " 0.11470915769577061,\n",
              " 0.11465611109019846,\n",
              " 0.11460306847156687,\n",
              " 0.11455003001702835,\n",
              " 0.11449699590235696,\n",
              " 0.11444396630211884,\n",
              " 0.11439094138943062,\n",
              " 0.11433792133620102,\n",
              " 0.11428490631307398,\n",
              " 0.11423189648932919,\n",
              " 0.11417889203305265,\n",
              " 0.11412589311100874,\n",
              " 0.11407289988879654,\n",
              " 0.11401991253067933,\n",
              " 0.11396693119971246,\n",
              " 0.11391395605775756,\n",
              " 0.1138609872654257,\n",
              " 0.11380802498213427,\n",
              " 0.11375506936606428,\n",
              " 0.11370212057424567,\n",
              " 0.11364917876251468,\n",
              " 0.11359624408551383,\n",
              " 0.11354331669667772,\n",
              " 0.11349039674838934,\n",
              " 0.11343748439175272,\n",
              " 0.11338457977683447,\n",
              " 0.11333525998117011,\n",
              " 0.11328597108399663,\n",
              " 0.11323668102431839,\n",
              " 0.11318743537295006,\n",
              " 0.11313828794516212,\n",
              " 0.11308914039796036,\n",
              " 0.11303999289192745,\n",
              " 0.11299084558663708,\n",
              " 0.11294169864042658,\n",
              " 0.1128925522107096,\n",
              " 0.11284340645374868,\n",
              " 0.11279426152478322,\n",
              " 0.11274511757792993,\n",
              " 0.1126959747663534,\n",
              " 0.11264683324208136,\n",
              " 0.11259769315614676,\n",
              " 0.11254855465858782,\n",
              " 0.11249941789833429,\n",
              " 0.112450283023378,\n",
              " 0.1124011501806308,\n",
              " 0.11235201951606655,\n",
              " 0.11230289117460757,\n",
              " 0.11225376530026665,\n",
              " 0.11220464203589131,\n",
              " 0.11215552152356167,\n",
              " 0.11210640390427784,\n",
              " 0.11205728931803094,\n",
              " 0.11200817790397366,\n",
              " 0.11195906980020709,\n",
              " 0.1119099651438944,\n",
              " 0.11186086407126083,\n",
              " 0.11181176671765058,\n",
              " 0.11176267321737043,\n",
              " 0.11171358370391715,\n",
              " 0.11166462993014648,\n",
              " 0.11161568253830012,\n",
              " 0.11156673998253552,\n",
              " 0.11151780239150355,\n",
              " 0.11146886989308769,\n",
              " 0.11141994261413402,\n",
              " 0.11137102068067861,\n",
              " 0.11132210421787647,\n",
              " 0.11127319334993047,\n",
              " 0.11122428820019081,\n",
              " 0.11117538889121192,\n",
              " 0.11112649554455345,\n",
              " 0.11107760828100766,\n",
              " 0.11102872722051416,\n",
              " 0.11097985248207465,\n",
              " 0.11093098418392344,\n",
              " 0.11088212244345641,\n",
              " 0.11083326737717414,\n",
              " 0.11078441910080983,\n",
              " 0.11073557772925824,\n",
              " 0.1106867433765899,\n",
              " 0.11063791615603691,\n",
              " 0.11058909618009238,\n",
              " 0.11054028356036838,\n",
              " 0.11049147840770956,\n",
              " 0.11044268083220743,\n",
              " 0.11039389094314345,\n",
              " 0.11034510884894644,\n",
              " 0.11029633465739153,\n",
              " 0.11024756847541539,\n",
              " 0.11019881040915891,\n",
              " 0.11015006056406662,\n",
              " 0.11010131904478726,\n",
              " 0.11005258595520218,\n",
              " 0.11000593232394351,\n",
              " 0.10996032925257282,\n",
              " 0.1099148205805136,\n",
              " 0.10986931362262453,\n",
              " 0.10982380849321771,\n",
              " 0.10977830530592314,\n",
              " 0.10973280417358922,\n",
              " 0.109687305208368,\n",
              " 0.10964180852170102,\n",
              " 0.10959631422433347,\n",
              " 0.10955082242625735,\n",
              " 0.10950533323673994,\n",
              " 0.10945984676440901,\n",
              " 0.10941436311722441,\n",
              " 0.10936888240227916,\n",
              " 0.10932340472615465,\n",
              " 0.10927793019472176,\n",
              " 0.10923245891305555,\n",
              " 0.10918699098571949,\n",
              " 0.1091415265164386,\n",
              " 0.10909606560841212,\n",
              " 0.10905060836404346,\n",
              " 0.10900515488518181,\n",
              " 0.10895970527298005,\n",
              " 0.10891425962793733,\n",
              " 0.10886881804988491,\n",
              " 0.10882338063804298,\n",
              " 0.10877794749096381,\n",
              " 0.10873251870658862,\n",
              " 0.10868709438219071,\n",
              " 0.10864167461447494,\n",
              " 0.10859625949942142,\n",
              " 0.10855084913247026,\n",
              " 0.10850544360840786,\n",
              " 0.10846004302146639,\n",
              " 0.10841464746513907,\n",
              " 0.10836925703243594,\n",
              " 0.10832387181572756,\n",
              " 0.10827849190673078,\n",
              " 0.10823311739666508,\n",
              " 0.1081877483760394,\n",
              " 0.10814238493486528,\n",
              " 0.10809702716258585,\n",
              " 0.1080517537484127,\n",
              " 0.10800651700571962,\n",
              " 0.10796128646992997,\n",
              " 0.10791606222716155,\n",
              " 0.1078708443629921,\n",
              " 0.10782563296240255,\n",
              " 0.10778042810980537,\n",
              " 0.10773522988910145,\n",
              " 0.1076900383835806,\n",
              " 0.10764485367597842,\n",
              " 0.10759967584851893,\n",
              " 0.10755450498285768,\n",
              " 0.10750934116003918,\n",
              " 0.10746418446072425,\n",
              " 0.10741903496486316,\n",
              " 0.10737389275200826,\n",
              " 0.10732875790111507,\n",
              " 0.10728363049055645,\n",
              " 0.10723851059833578,\n",
              " 0.10719339830176011,\n",
              " 0.10714829367776701,\n",
              " 0.10710319680268299,\n",
              " 0.10705810775233715,\n",
              " 0.10701302660210388,\n",
              " 0.1069679534267749,\n",
              " 0.1069228883007014,\n",
              " 0.10687783129770878,\n",
              " 0.10683278249111083,\n",
              " 0.10678774195379503,\n",
              " 0.10674270975806621,\n",
              " 0.1066986281645228,\n",
              " 0.10665626160702857,\n",
              " 0.10661389755313166,\n",
              " 0.10657153608497083,\n",
              " 0.10652917728427269,\n",
              " 0.1064868212322665,\n",
              " 0.10644446800966989]"
            ]
          },
          "metadata": {
            "tags": []
          },
          "execution_count": 25
        }
      ]
    },
    {
      "cell_type": "code",
      "metadata": {
        "id": "NuBjqG4IZg1l"
      },
      "source": [
        "yt = restrict_injection"
      ],
      "execution_count": 19,
      "outputs": []
    },
    {
      "cell_type": "code",
      "metadata": {
        "id": "P8z4cvM-s8ec"
      },
      "source": [
        "x=yt(u)"
      ],
      "execution_count": 20,
      "outputs": []
    },
    {
      "cell_type": "code",
      "metadata": {
        "colab": {
          "base_uri": "https://localhost:8080/"
        },
        "id": "ohIT2tSe9qrL",
        "outputId": "483a4ef2-61b9-4d07-ac54-0bf8ba13a3f8"
      },
      "source": [
        "x.size"
      ],
      "execution_count": 21,
      "outputs": [
        {
          "output_type": "execute_result",
          "data": {
            "text/plain": [
              "1024"
            ]
          },
          "metadata": {
            "tags": []
          },
          "execution_count": 21
        }
      ]
    },
    {
      "cell_type": "code",
      "metadata": {
        "colab": {
          "base_uri": "https://localhost:8080/"
        },
        "id": "OZBQRGbV9rgS",
        "outputId": "851de2c0-071a-4134-de0f-3173b894679e"
      },
      "source": [
        "u.size"
      ],
      "execution_count": 22,
      "outputs": [
        {
          "output_type": "execute_result",
          "data": {
            "text/plain": [
              "4096"
            ]
          },
          "metadata": {
            "tags": []
          },
          "execution_count": 22
        }
      ]
    },
    {
      "cell_type": "code",
      "metadata": {
        "id": "_xGkknHh9uRZ"
      },
      "source": [
        ""
      ],
      "execution_count": null,
      "outputs": []
    }
  ]
}