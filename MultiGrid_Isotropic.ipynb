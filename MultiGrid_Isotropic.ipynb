{
  "nbformat": 4,
  "nbformat_minor": 0,
  "metadata": {
    "colab": {
      "name": "MultiGrid_Isotropic.ipynb",
      "provenance": [],
      "collapsed_sections": [],
      "authorship_tag": "ABX9TyOyIP/STYRIEEy1UKLqzauz",
      "include_colab_link": true
    },
    "kernelspec": {
      "display_name": "Python 3",
      "name": "python3"
    },
    "accelerator": "GPU"
  },
  "cells": [
    {
      "cell_type": "markdown",
      "metadata": {
        "id": "view-in-github",
        "colab_type": "text"
      },
      "source": [
        "<a href=\"https://colab.research.google.com/github/fadibechara/MultiGrid/blob/main/MultiGrid_Isotropic.ipynb\" target=\"_parent\"><img src=\"https://colab.research.google.com/assets/colab-badge.svg\" alt=\"Open In Colab\"/></a>"
      ]
    },
    {
      "cell_type": "code",
      "metadata": {
        "id": "7ipy_l9yZ8rc"
      },
      "source": [
        "from math import pi, sin, cos, sqrt\r\n",
        "import pylab as plt\r\n",
        "import numpy as np\r\n",
        "import scipy as sp\r\n",
        "import scipy.sparse as spa\r\n",
        "import scipy.linalg as la\r\n",
        "import math\r\n",
        "import time\r\n",
        "#from matplotlib import rc, rcParams\r\n",
        "#rc('font',**{'family':'sans-serif','sans-serif':['Helvetica']})\r\n",
        "#rc('text', usetex=True)\r\n",
        "#rcParams.update({'font.size': 16})\r\n",
        "\r\n",
        "# Some paramters\r\n",
        "_eps =1e-12\r\n",
        "_maxiter=500\r\n",
        "\r\n",
        "def _basic_check(A, b, x0):\r\n",
        "    \"\"\" Common check for clarity \"\"\"\r\n",
        "    n, m = A.shape\r\n",
        "    if(n != m):\r\n",
        "        raise ValueError(\"Only square matrix allowed\")\r\n",
        "    if(b.size != n):\r\n",
        "        raise ValueError(\"Bad rhs size\")\r\n",
        "    if (x0 is None):\r\n",
        "        x0 = np.zeros(n)\r\n",
        "    if(x0.size != n):\r\n",
        "        raise ValueError(\"Bad initial value size\")\r\n",
        "    return x0"
      ],
      "execution_count": 3,
      "outputs": []
    },
    {
      "cell_type": "code",
      "metadata": {
        "id": "DWEl_M12FPoh"
      },
      "source": [
        "def plot_heatmap(u):\r\n",
        "  N=u.size\r\n",
        "  n=int(math.sqrt(N))\r\n",
        "  u = np.reshape(u, (n,n))\r\n",
        "  plt.imshow(u, cmap='hot', interpolation='nearest')\r\n",
        "  plt.show()"
      ],
      "execution_count": 4,
      "outputs": []
    },
    {
      "cell_type": "code",
      "metadata": {
        "id": "r2dpbVywZ1vX"
      },
      "source": [
        "def JOR(A, b, x, omega, eps, maxiter):\r\n",
        "\r\n",
        "    #x = _basic_check(A, b, x0)\r\n",
        "    r = np.zeros(x.shape)    \r\n",
        "    residual_history = list()\r\n",
        "    disp_history = list()\r\n",
        "    n = x.size\r\n",
        "    count = 0\r\n",
        "    disp = eps+1\r\n",
        "    while (count<maxiter and disp>eps):\r\n",
        "        xn = np.zeros(n)\r\n",
        "        for i in range(n):  \r\n",
        "            s = b[i]\r\n",
        "            for t in [y for y in range(0,n) if y!=i]:\r\n",
        "                s = s - (A[i][t])*x[t]\r\n",
        "            xn[i]=(1-omega)*x[i]+(omega/A[i][i])*s\r\n",
        "        r = (xn[0]-x[0])*(xn[0]-x[0])    \r\n",
        "        disp = (xn[0]-x[0])*(xn[0]-x[0])\r\n",
        "        for i in range(1,n):\r\n",
        "            r = r + (xn[i]-x[i])*(xn[i]-x[i])  \r\n",
        "            dispc=(xn[i]-x[i])*(xn[i]-x[i])\r\n",
        "            if(dispc>disp):\r\n",
        "               disp=dispc\r\n",
        "        x = xn[:]\r\n",
        "        r = math.sqrt(r)\r\n",
        "        disp = math.sqrt(disp)\r\n",
        "        residual_history.append(r)\r\n",
        "        disp_history.append(disp)\r\n",
        "        count = count+1\r\n",
        "\r\n",
        "    return x, residual_history, disp_history, count\r\n"
      ],
      "execution_count": 5,
      "outputs": []
    },
    {
      "cell_type": "code",
      "metadata": {
        "id": "G54e43EwZtgZ"
      },
      "source": [
        "def SOR(A, b, x, omega=1.5, eps=_eps, maxiter=_maxiter):\r\n",
        "    start_time = time.time()\r\n",
        "    if (omega > 2.) or (omega < 0.):\r\n",
        "        raise ArithmeticError(\"SOR will diverge\")\r\n",
        "\r\n",
        "    #x = _basic_check(A, b, x0)   \r\n",
        "    residual_history = list()\r\n",
        "    disp_history = list()\r\n",
        "    n = b.size\r\n",
        "    count = 0\r\n",
        "    disp = eps+1\r\n",
        "    while (count<maxiter and disp>eps):\r\n",
        "        xn = np.zeros(n)\r\n",
        "        for i in range(n):  \r\n",
        "            s = b[i]\r\n",
        "            for t in range(i):\r\n",
        "                s = s - A[i][t]*xn[t]\r\n",
        "            for t in range(i+1, n):\r\n",
        "                s = s - A[i][t]*x[t]\r\n",
        "            xn[i]=(1-omega)*x[i]+(omega/(A[i][i]))*s\r\n",
        "        r = (xn[0]-x[0])*(xn[0]-x[0])    \r\n",
        "        disp = (xn[0]-x[0])*(xn[0]-x[0])\r\n",
        "        for i in range(1,n):\r\n",
        "            r = r + (xn[i]-x[i])*(xn[i]-x[i])  \r\n",
        "            dispc=(xn[i]-x[i])*(xn[i]-x[i])\r\n",
        "            if(dispc>disp):\r\n",
        "               disp=dispc\r\n",
        "        x = xn[:]\r\n",
        "        r = math.sqrt(r)\r\n",
        "        residual_history.append(r)\r\n",
        "        disp_history.append(disp)\r\n",
        "        count = count+1\r\n",
        "    elapsed_time = time.time() - start_time\r\n",
        "    print(elapsed_time)\r\n",
        "    return x, residual_history, disp_history, count"
      ],
      "execution_count": 6,
      "outputs": []
    },
    {
      "cell_type": "code",
      "metadata": {
        "id": "6TUH0H6U69dq"
      },
      "source": [
        "#Sparse sor function for a more efficient matrix vector multiplication with less unbenificial computations, this function can only be used in this particular case though\r\n",
        "def sparse_SOR(A, b, x, omega=1.5, eps=_eps, maxiter=_maxiter):\r\n",
        "    start_time = time.time()\r\n",
        "    if (omega > 2.) or (omega < 0.):\r\n",
        "        raise ArithmeticError(\"SOR will diverge\")\r\n",
        "\r\n",
        "    #x = _basic_check(A, b, x0)   \r\n",
        "    residual_history = list()\r\n",
        "    disp_history = list()\r\n",
        "    N = b.size\r\n",
        "    n = int(math.sqrt(N))\r\n",
        "    count = 0\r\n",
        "    disp = eps+1\r\n",
        "    while (count<maxiter and disp>eps):\r\n",
        "          xn = np.zeros(N)\r\n",
        "          for i in range(n,N-n):\r\n",
        "            if i%n == 0 or (i+1)%n == 0:\r\n",
        "             continue\r\n",
        "            s = b[i]\r\n",
        "           #if(i<n or i>(n*(n-1)-1)):\r\n",
        "           #for t in range(i):\r\n",
        "                #s = s - A[i][t]*xn[t]\r\n",
        "           #for t in range(i+1, N):\r\n",
        "                #s = s - A[i][t]*x[t]           \r\n",
        "           #else:\r\n",
        "            s = s - A[i][i-n]*xn[i-n] - A[i][i-1]*xn[i-1] - A[i][i+1]*x[i+1] - A[i][i+n]*x[i+n]\r\n",
        "            xn[i]=(1-omega)*x[i]+(omega/(A[i][i]))*s\r\n",
        "          r = (xn[0]-x[0])*(xn[0]-x[0])    \r\n",
        "          disp = (xn[0]-x[0])*(xn[0]-x[0])\r\n",
        "          for i in range(n,N-n):\r\n",
        "            if i%n == 0 or (i+1)%n == 0:\r\n",
        "             continue\r\n",
        "            r = r + (xn[i]-x[i])*(xn[i]-x[i])  \r\n",
        "            dispc=(xn[i]-x[i])*(xn[i]-x[i])\r\n",
        "            if(dispc>disp):\r\n",
        "               disp=dispc\r\n",
        "          x = xn[:]\r\n",
        "          r = math.sqrt(r)\r\n",
        "          disp = math.sqrt(disp)\r\n",
        "          residual_history.append(r)\r\n",
        "          disp_history.append(disp)\r\n",
        "          count = count+1\r\n",
        "    elapsed_time = time.time() - start_time\r\n",
        "    print(elapsed_time)\r\n",
        "    return x, residual_history, disp_history, count"
      ],
      "execution_count": 7,
      "outputs": []
    },
    {
      "cell_type": "code",
      "metadata": {
        "id": "Z2UjmkmCWu0E"
      },
      "source": [
        "def v_multigrid(x, min=2, omega=1.633):\r\n",
        "  start_time = time.time()\r\n",
        "  a=x.size\r\n",
        "  rank=0\r\n",
        "  while(a!=1):\r\n",
        "    a=int(a/2)\r\n",
        "    rank=rank+1\r\n",
        "  count=rank\r\n",
        "  print(rank)\r\n",
        "  print('         Start restriction')\r\n",
        "  i=1\r\n",
        "  while(count>(min)):\r\n",
        "    N=x.size\r\n",
        "    print(N)\r\n",
        "    n=int(math.sqrt(N))\r\n",
        "    h=1/(n)\r\n",
        "    A = fivediag(N, n ,h)\r\n",
        "    f = function(N,h)\r\n",
        "    e=(1/i)\r\n",
        "    x,r,d,c = sparse_SOR(A,f,x,omega,e,10000)\r\n",
        "    print(c)\r\n",
        "    plot_heatmap(x)\r\n",
        "    x=restrict_injection(x)\r\n",
        "    i=i*1000000000\r\n",
        "    count=count-2\r\n",
        "  print(x)\r\n",
        "  print(count)\r\n",
        "  print('GOAL COUNT')\r\n",
        "  print(rank)\r\n",
        "  print(x.size)\r\n",
        "  print('         Start prolognation')\r\n",
        "  while(count<(rank+1)):\r\n",
        "    N=x.size\r\n",
        "    n=int(math.sqrt(N))\r\n",
        "    h=1/(n)\r\n",
        "    A = fivediag(N, n ,h)\r\n",
        "    f = function(N,h)\r\n",
        "    e=(1/i)\r\n",
        "    x,r,d,c = sparse_SOR(A,f,x,omega,e,10000)\r\n",
        "    x,r,d,c1 = sparse_SOR(A,f,x,omega,1e-7,10000)\r\n",
        "    print(x.size)\r\n",
        "    print(c)\r\n",
        "    #print(c1)\r\n",
        "    plot_heatmap(x)\r\n",
        "    if(count!=rank):\r\n",
        "      x=prolongate(x)\r\n",
        "    print(x.size)\r\n",
        "    i=i/100000000\r\n",
        "    count=count+2\r\n",
        "\r\n",
        "  \r\n",
        "  elapsed_time = time.time() - start_time\r\n",
        "  print('V_MultiGrid Took')\r\n",
        "  print(elapsed_time)\r\n",
        "  return x"
      ],
      "execution_count": 8,
      "outputs": []
    },
    {
      "cell_type": "code",
      "metadata": {
        "id": "YTiynBp5h0Wj"
      },
      "source": [
        "def w_multigrid(x, min=4, intermediate=6,  omega=1.633, sig=1):\r\n",
        "  start_time = time.time()\r\n",
        "  a=x.size\r\n",
        "  rank=0\r\n",
        "  while(a!=1):\r\n",
        "    a=int(a/2)\r\n",
        "    rank=rank+1\r\n",
        "  count=rank\r\n",
        "  print(rank)\r\n",
        "  print('                   Start restriction')\r\n",
        "  i=1\r\n",
        "  while(count>(min)):\r\n",
        "    N=x.size\r\n",
        "    print(N)\r\n",
        "    n=int(math.sqrt(N))\r\n",
        "    h=1/(n)\r\n",
        "    A = fivediag(N, n ,h, sig)\r\n",
        "    f = function(N,h)\r\n",
        "    e=(1/i)\r\n",
        "    x,r,d,c = sparse_SOR(A,f,x,omega,e,i)\r\n",
        "    print(c)\r\n",
        "    plot_heatmap(x)\r\n",
        "    x=restrict_injection(x)\r\n",
        "    i=i*1000\r\n",
        "    count=count-2\r\n",
        "  print(x)\r\n",
        "  print(count)\r\n",
        "  print('GOAL COUNT')\r\n",
        "  print(rank)\r\n",
        "  print(x.size)\r\n",
        "  print('                     Start prolognation to intermediate phase')\r\n",
        "\r\n",
        "  while(count<(intermediate+1)):\r\n",
        "    e=(1/i)\r\n",
        "    i=i/1000\r\n",
        "    N=x.size\r\n",
        "    n=int(math.sqrt(N))\r\n",
        "    h=1/(n)\r\n",
        "    A = fivediag(N, n ,h, sig)\r\n",
        "    f = function(N,h)\r\n",
        "    x,r,d,c = sparse_SOR(A,f,x,omega,e,10000)\r\n",
        "    print(x.size)\r\n",
        "    print(c)\r\n",
        "    plot_heatmap(x)\r\n",
        "    if(count!=rank):\r\n",
        "      x=prolongate_injection(x)\r\n",
        "    print(x.size)\r\n",
        "    i=i/10000\r\n",
        "    count=count+2\r\n",
        "\r\n",
        "\r\n",
        "  print('                   Start restriction from intermediate phase to minimum COARSE phase')\r\n",
        "  while(count>(min)):\r\n",
        "    i=i*1000\r\n",
        "    N=x.size\r\n",
        "    print(N)\r\n",
        "    n=int(math.sqrt(N))\r\n",
        "    h=1/(n)\r\n",
        "    A = fivediag(N, n ,h, sig)\r\n",
        "    f = function(N,h)\r\n",
        "    e=(1/i)/1000000000\r\n",
        "    x,r,d,c = sparse_SOR(A,f,x,omega,e,10000)\r\n",
        "    print(c)\r\n",
        "    plot_heatmap(x)\r\n",
        "    x=restrict_injection(x)\r\n",
        "    count=count-2\r\n",
        "\r\n",
        "  print('                   Start prolongation from minimum COARSE phase to FINE grid')\r\n",
        "  \r\n",
        "  while(count<(rank+1)):\r\n",
        "    c=0\r\n",
        "    c1=0\r\n",
        "    e=(1/i)\r\n",
        "    i=i/1000\r\n",
        "    N=x.size\r\n",
        "    n=int(math.sqrt(N))\r\n",
        "    h=1/(n)\r\n",
        "    A = fivediag(N, n ,h, sig)\r\n",
        "    f = function(N,h)\r\n",
        "    if (count!=rank):\r\n",
        "      x,r,d,c = sparse_SOR(A,f,x,omega,1e-15,1000)\r\n",
        "    else:\r\n",
        "      x,r,d,c = sparse_SOR(A,f,x,omega,1e-6,10000)\r\n",
        "    print(x.size)\r\n",
        "    print(c)\r\n",
        "    plot_heatmap(x)\r\n",
        "    if (count!=rank):\r\n",
        "      x=prolongate_injection(x)\r\n",
        "    print(x.size)\r\n",
        "    count=count+2\r\n",
        "\r\n",
        "  \r\n",
        "  elapsed_time = time.time() - start_time\r\n",
        "  print('W_MultiGrid Took')\r\n",
        "  print(elapsed_time)\r\n",
        "  return x"
      ],
      "execution_count": 9,
      "outputs": []
    },
    {
      "cell_type": "code",
      "metadata": {
        "id": "Q9mAeDns2tLz"
      },
      "source": [
        "def fivediag(N, n, h, sigma=0):\r\n",
        "  a=[4+h*h*sigma]*N\r\n",
        "  b=[-1]*(N-1)\r\n",
        "  c=[-1]*(N-1)\r\n",
        "  d=[-1]*(N-n)\r\n",
        "  e=[-1]*(N-n)\r\n",
        "  A = np.diag(a, 0) + np.diag(b, -1) + np.diag(c, 1) + np.diag(d, -n) + np.diag(e, n)\r\n",
        "  A = np.reshape(A, (N, N))\r\n",
        "  return A"
      ],
      "execution_count": 10,
      "outputs": []
    },
    {
      "cell_type": "code",
      "metadata": {
        "id": "1Xb80g3jCSab"
      },
      "source": [
        "def function(N,h):\r\n",
        "  f = np.empty(N, dtype=float)\r\n",
        "  n=int(math.sqrt(N))\r\n",
        "  for i in range(0,n):\r\n",
        "    for j in range(0,n):\r\n",
        "      f[i*n+j]=(h**2)*(i*n+j)*(i*n+j)*(h**2)\r\n",
        "  return f\r\n"
      ],
      "execution_count": 11,
      "outputs": []
    },
    {
      "cell_type": "code",
      "metadata": {
        "id": "k0YDYnqWe4Qk"
      },
      "source": [
        "def restrict_full(u):\r\n",
        "  s=np.size(u,0)\r\n",
        "  s=int(math.sqrt(s))\r\n",
        "  n=int(s/2)\r\n",
        "  uc = np.empty(n*n, dtype=float)\r\n",
        "  uc[0]=(4*u[0]+2*u[s]+2*u[1]+u[s+1])/9\r\n",
        "  for i in range(1, n):\r\n",
        "    uc[i]=(4*u[2*i]+2*u[2*i-1]+2*u[2*i+1]+2*u[2*i+s]+u[2*i+s-1]+u[2*i+s+1])/12\r\n",
        "\r\n",
        "  for i in range(1,n):\r\n",
        "    uc[n*i]=(4*u[2*i*s]+2*u[(2*i-1)*s]+2*u[(2*i+1)*s]+2*u[2*i*s+1]+u[(2*i+1)*s+1]+u[(2*i-1)*s-1])/12\r\n",
        "    for j in range(1,n):\r\n",
        "      uc[n*i+j]=(4*u[2*i*s+2*j] + 2*u[2*i*s+2*j-1] + 2*u[2*i*s+2*j+1] + 2*u[(2*i-1)*s+2*j] + 2*u[(2*i+1)*s+2*j] + u[(2*i+1)*s+2*j+1] + u[(2*i+1)*s+2*j-1] + u[(2*i-1)*s+2*j+1] + u[(2*i-1)*s+2*j-1])/16\r\n",
        "\r\n",
        "  return uc\r\n",
        "\r\n",
        "\r\n"
      ],
      "execution_count": 12,
      "outputs": []
    },
    {
      "cell_type": "code",
      "metadata": {
        "id": "7OMc-4jdI8g2"
      },
      "source": [
        "def restrict_half(u):\r\n",
        "  s=np.size(u,0)\r\n",
        "  s=int(math.sqrt(s))\r\n",
        "  n=int(s/2)\r\n",
        "  uc = np.empty(n*n, dtype=float)\r\n",
        "  uc[0]=(4*u[0]+u[s]+u[1])/6\r\n",
        "  for i in range(1, n):\r\n",
        "    uc[i]=(4*u[2*i]+u[2*i-1]+u[2*i+1]+u[2*i+s])/7\r\n",
        "\r\n",
        "  for i in range(1,n):\r\n",
        "    uc[n*i]=(4*u[2*i*s]+u[(2*i-1)*s]+u[(2*i+1)*s]+u[2*i*s+1])/7\r\n",
        "    for j in range(1,n):\r\n",
        "      uc[n*i+j]=(4*u[2*i*s+2*j] + u[2*i*s+2*j-1] + u[2*i*s+2*j+1] + u[(2*i-1)*s+2*j] + u[(2*i+1)*s+2*j])/8\r\n",
        "\r\n",
        "  return uc"
      ],
      "execution_count": 13,
      "outputs": []
    },
    {
      "cell_type": "code",
      "metadata": {
        "id": "kG0p1YbGKwTx"
      },
      "source": [
        "def restrict_injection(u):\r\n",
        "  s=np.size(u,0)\r\n",
        "  s=int(math.sqrt(s))\r\n",
        "  n=int(s/2)\r\n",
        "  uc = np.empty(n*n, dtype=float)\r\n",
        "  uc[0] = u[0]\r\n",
        "  for i in range(1, n):\r\n",
        "    uc[i]=u[2*i]\r\n",
        "\r\n",
        "  for i in range(1,n):\r\n",
        "    uc[n*i]= u[2*i*s]\r\n",
        "    for j in range(1,n):\r\n",
        "      uc[n*i+j]= u[2*i*s+2*j]\r\n",
        "\r\n",
        "  return uc"
      ],
      "execution_count": 14,
      "outputs": []
    },
    {
      "cell_type": "code",
      "metadata": {
        "id": "kYz9yg4MAevF"
      },
      "source": [
        "def prolongate(u):\r\n",
        "  s=np.size(u)\r\n",
        "  s=int(math.sqrt(s))\r\n",
        "  n=int(2*s)\r\n",
        "  uf = np.zeros((n)*(n), dtype=float)\r\n",
        "  for i in range(0,n,2):\r\n",
        "    for j in range(0,n,2):\r\n",
        "      uf[i*n+j]=u[int((i/2)*s+j/2)]\r\n",
        "    for j in range(1,n-1,2):\r\n",
        "      uf[i*n+j]=(uf[i*n+j-1]+uf[i*n+j+1])/2\r\n",
        "    uf[i*n+n-1]=uf[i*n+n-2]\r\n",
        "\r\n",
        "  for i in range(1,n-2,2):\r\n",
        "    for j in range(0,n):\r\n",
        "      uf[i*n+j]=(uf[(i-1)*n+j]+uf[(i+1)*n+j])/2\r\n",
        "  for j in range(0,n):\r\n",
        "    uf[(n-1)*n+j]=uf[(n-2)*n+j]\r\n",
        "\r\n",
        "  return uf\r\n"
      ],
      "execution_count": 15,
      "outputs": []
    },
    {
      "cell_type": "code",
      "metadata": {
        "id": "tpbWhDtQMbOX"
      },
      "source": [
        "def prolongate_injection(u):\r\n",
        "  s=np.size(u)\r\n",
        "  n=int(math.sqrt(s))\r\n",
        "  N=int(2*n)\r\n",
        "  uf = np.zeros((N)*(N), dtype=float)\r\n",
        "  for i in range(0,s):\r\n",
        "    j = int(i/n)\r\n",
        "    p = i - j*n\r\n",
        "    uf[j*2*N+p*2]=uf[j*2*N+p*2+1]=uf[j*2*N+p*2+N]=uf[j*2*N+p*2+N+1]=u[i]\r\n",
        "   \r\n",
        "\r\n",
        "  return uf\r\n"
      ],
      "execution_count": 16,
      "outputs": []
    },
    {
      "cell_type": "code",
      "metadata": {
        "colab": {
          "base_uri": "https://localhost:8080/"
        },
        "id": "qhFnRjgZgU1y",
        "outputId": "ae77696b-4059-431e-b9ff-8253e962b32d"
      },
      "source": [
        "e=14\r\n",
        "#This is our initial guess \r\n",
        "u = np.arange(start=1, stop=2**e+1, step=1, dtype=float)\r\n",
        "#u = np.zeros(2**e)  \r\n",
        "u.size"
      ],
      "execution_count": 17,
      "outputs": [
        {
          "output_type": "execute_result",
          "data": {
            "text/plain": [
              "16384"
            ]
          },
          "metadata": {
            "tags": []
          },
          "execution_count": 17
        }
      ]
    },
    {
      "cell_type": "code",
      "metadata": {
        "colab": {
          "base_uri": "https://localhost:8080/",
          "height": 1000
        },
        "id": "ZIJ1XQyMcwB2",
        "outputId": "80173d08-df0b-4637-9cf1-a51a2cc66065"
      },
      "source": [
        "x = w_multigrid(u, 4, 4, 1.633, 0)"
      ],
      "execution_count": 18,
      "outputs": [
        {
          "output_type": "stream",
          "text": [
            "14\n",
            "                   Start restriction\n",
            "16384\n",
            "0.09297537803649902\n",
            "1\n"
          ],
          "name": "stdout"
        },
        {
          "output_type": "display_data",
          "data": {
            "image/png": "[encoded data removed]",
            "text/plain": [
              "<Figure size 432x288 with 1 Axes>"
            ]
          },
          "metadata": {
            "tags": [],
            "needs_background": "light"
          }
        },
        {
          "output_type": "stream",
          "text": [
            "4096\n",
            "20.932708024978638\n",
            "1000\n"
          ],
          "name": "stdout"
        },
        {
          "output_type": "display_data",
          "data": {
            "image/png": "[encoded data removed]",
            "text/plain": [
              "<Figure size 432x288 with 1 Axes>"
            ]
          },
          "metadata": {
            "tags": [],
            "needs_background": "light"
          }
        },
        {
          "output_type": "stream",
          "text": [
            "1024\n",
            "1.5823678970336914\n",
            "320\n"
          ],
          "name": "stdout"
        },
        {
          "output_type": "display_data",
          "data": {
            "image/png": "[encoded data removed]",
            "text/plain": [
              "<Figure size 432x288 with 1 Axes>"
            ]
          },
          "metadata": {
            "tags": [],
            "needs_background": "light"
          }
        },
        {
          "output_type": "stream",
          "text": [
            "256\n",
            "0.08982443809509277\n",
            "86\n"
          ],
          "name": "stdout"
        },
        {
          "output_type": "display_data",
          "data": {
            "image/png": "[encoded data removed]",
            "text/plain": [
              "<Figure size 432x288 with 1 Axes>"
            ]
          },
          "metadata": {
            "tags": [],
            "needs_background": "light"
          }
        },
        {
          "output_type": "stream",
          "text": [
            "64\n",
            "0.013306617736816406\n",
            "67\n"
          ],
          "name": "stdout"
        },
        {
          "output_type": "display_data",
          "data": {
            "image/png": "[encoded data removed]",
            "text/plain": [
              "<Figure size 432x288 with 1 Axes>"
            ]
          },
          "metadata": {
            "tags": [],
            "needs_background": "light"
          }
        },
        {
          "output_type": "stream",
          "text": [
            "[0.         0.         0.         0.         0.         0.43780715\n",
            " 0.55541165 0.30186355 0.         0.84869639 1.04819365 0.59865424\n",
            " 0.         0.69776958 0.83264805 0.53209612]\n",
            "4\n",
            "GOAL COUNT\n",
            "14\n",
            "16\n",
            "                     Start prolognation to intermediate phase\n",
            "0.0032999515533447266\n",
            "16\n",
            "77\n"
          ],
          "name": "stdout"
        },
        {
          "output_type": "display_data",
          "data": {
            "image/png": "[encoded data removed]",
            "text/plain": [
              "<Figure size 432x288 with 1 Axes>"
            ]
          },
          "metadata": {
            "tags": [],
            "needs_background": "light"
          }
        },
        {
          "output_type": "stream",
          "text": [
            "64\n",
            "                   Start restriction from intermediate phase to minimum COARSE phase\n",
            "64\n",
            "1.9812028408050537\n",
            "10000\n"
          ],
          "name": "stdout"
        },
        {
          "output_type": "display_data",
          "data": {
            "image/png": "[encoded data removed]",
            "text/plain": [
              "<Figure size 432x288 with 1 Axes>"
            ]
          },
          "metadata": {
            "tags": [],
            "needs_background": "light"
          }
        },
        {
          "output_type": "stream",
          "text": [
            "                   Start prolongation from minimum COARSE phase to FINE grid\n",
            "0.0032024383544921875\n",
            "16\n",
            "77\n"
          ],
          "name": "stdout"
        },
        {
          "output_type": "display_data",
          "data": {
            "image/png": "[encoded data removed]",
            "text/plain": [
              "<Figure size 432x288 with 1 Axes>"
            ]
          },
          "metadata": {
            "tags": [],
            "needs_background": "light"
          }
        },
        {
          "output_type": "stream",
          "text": [
            "64\n",
            "0.015234947204589844\n",
            "64\n",
            "78\n"
          ],
          "name": "stdout"
        },
        {
          "output_type": "display_data",
          "data": {
            "image/png": "[encoded data removed]",
            "text/plain": [
              "<Figure size 432x288 with 1 Axes>"
            ]
          },
          "metadata": {
            "tags": [],
            "needs_background": "light"
          }
        },
        {
          "output_type": "stream",
          "text": [
            "256\n",
            "1.0773868560791016\n",
            "256\n",
            "1000\n"
          ],
          "name": "stdout"
        },
        {
          "output_type": "display_data",
          "data": {
            "image/png": "[encoded data removed]",
            "text/plain": [
              "<Figure size 432x288 with 1 Axes>"
            ]
          },
          "metadata": {
            "tags": [],
            "needs_background": "light"
          }
        },
        {
          "output_type": "stream",
          "text": [
            "1024\n",
            "4.873617649078369\n",
            "1024\n",
            "1000\n"
          ],
          "name": "stdout"
        },
        {
          "output_type": "display_data",
          "data": {
            "image/png": "[encoded data removed]",
            "text/plain": [
              "<Figure size 432x288 with 1 Axes>"
            ]
          },
          "metadata": {
            "tags": [],
            "needs_background": "light"
          }
        },
        {
          "output_type": "stream",
          "text": [
            "4096\n",
            "20.95611882209778\n",
            "4096\n",
            "1000\n"
          ],
          "name": "stdout"
        },
        {
          "output_type": "display_data",
          "data": {
            "image/png": "[encoded data removed]",
            "text/plain": [
              "<Figure size 432x288 with 1 Axes>"
            ]
          },
          "metadata": {
            "tags": [],
            "needs_background": "light"
          }
        },
        {
          "output_type": "stream",
          "text": [
            "16384\n",
            "439.7760970592499\n",
            "16384\n",
            "4996\n"
          ],
          "name": "stdout"
        },
        {
          "output_type": "display_data",
          "data": {
            "image/png": "[encoded data removed]",
            "text/plain": [
              "<Figure size 432x288 with 1 Axes>"
            ]
          },
          "metadata": {
            "tags": [],
            "needs_background": "light"
          }
        },
        {
          "output_type": "stream",
          "text": [
            "16384\n",
            "W_MultiGrid Took\n",
            "503.21262884140015\n"
          ],
          "name": "stdout"
        }
      ]
    },
    {
      "cell_type": "code",
      "metadata": {
        "colab": {
          "base_uri": "https://localhost:8080/",
          "height": 304
        },
        "id": "t-Tshi-CDaHZ",
        "outputId": "f91b520f-d8a6-423c-8fd0-f9921577f12b"
      },
      "source": [
        "N=u.size    \r\n",
        "n=int(math.sqrt(N))\r\n",
        "h=1/(n)\r\n",
        "A = fivediag(N, n ,h, 0)\r\n",
        "f = function(N,h)\r\n",
        "print('Conventional SOR exclusively on the FINE grid took')\r\n",
        "u2,r,d,c = sparse_SOR(A,f,u,1.633,1e-6,400000)\r\n",
        "plot_heatmap(u2)"
      ],
      "execution_count": 19,
      "outputs": [
        {
          "output_type": "stream",
          "text": [
            "Conventional SOR exclusively on the FINE grid took\n",
            "541.7551958560944\n"
          ],
          "name": "stdout"
        },
        {
          "output_type": "display_data",
          "data": {
            "image/png": "[encoded data removed]",
            "text/plain": [
              "<Figure size 432x288 with 1 Axes>"
            ]
          },
          "metadata": {
            "tags": [],
            "needs_background": "light"
          }
        }
      ]
    },
    {
      "cell_type": "code",
      "metadata": {
        "id": "0LhMKo5RRwUT"
      },
      "source": [
        ""
      ],
      "execution_count": null,
      "outputs": []
    }
  ]
}